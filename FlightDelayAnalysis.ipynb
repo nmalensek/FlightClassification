{
 "cells": [
  {
   "cell_type": "markdown",
   "metadata": {},
   "source": [
    "# Final Project Report - Investigating the Effectiveness of Several Activation Functions and 3rd-Party Packages When Classifying 2015 Flight Delay Data"
   ]
  },
  {
   "cell_type": "markdown",
   "metadata": {},
   "source": [
    "#### by Nick Malensek"
   ]
  },
  {
   "cell_type": "markdown",
   "metadata": {},
   "source": [
    "## Overview"
   ]
  },
  {
   "cell_type": "markdown",
   "metadata": {},
   "source": [
    "#### Objectives"
   ]
  },
  {
   "cell_type": "markdown",
   "metadata": {},
   "source": [
    "The objectives of this study are: \n",
    "1. Test whether different activation functions make a measurable impact on the network's ability to classify data using the classifier neural network class developed during this course.\n",
    "2. Classify the same data set using 3rd-party packages and their partitioning functions.\n",
    "\n",
    "First, the data will be classified using the neural network developed during this course with a variety of activation functions. Then the effectiveness of the 3rd-party packages' solutions and their partitioning functions will also be examined. 3rd-party packages are frequently used to conduct machine learning and are expected to provide correct solutions, so it's important to evaluate their effectiveness at data preparation and machine-learning.\n",
    "\n",
    "The classification results will be shown using confusion matrices. Investigation of data partitioning and the classification results will be done for each neural network configuration and then discussed."
   ]
  },
  {
   "cell_type": "markdown",
   "metadata": {},
   "source": [
    "#### Data Description"
   ]
  },
  {
   "cell_type": "markdown",
   "metadata": {},
   "source": [
    "The data is provided by the US Department of Transportation (DOT). The DOT tracks on-time performance of domestic flights for all major carriers and records summary information about those flights on a yearly basis. Summary information includes things like scheduled and actual departure date/time and arrival date/time, origin airport, destination airport, and whether a flight was cancelled. Flight data for 2015 will be used for this study due to its relative timeliness and because it is easily available.\n",
    "\n",
    "The data is formatted as comma-separated values, with the first line of the file containing the column headers. The following columns will be used as input: \n",
    "\n",
    "* Year\n",
    "* Month\n",
    "* Day\n",
    "* Day of Week\n",
    "* Airline\n",
    "* Flight Number\n",
    "* Tail Number (an airplane's unique ID)\n",
    "* Origin Airport\n",
    "* Destination Airport\n",
    "* Scheduled Departure\n",
    "* Elapsed Time\n",
    "* Distance\n",
    "\n",
    "The Arrival Delay column will be used to classify the data as early (arrival delay < 0), on-time (0 < arrival delay < 15), and late (arrival delay > 15) and the columns will be converted to a 0, 1, or 2, respectively.\n",
    "\n",
    "The remaining columns are ignored because they are either not relevant to this study or contain information that would immediately classify a flight (Arrival Delay, for example). Cancelled flights will also not be considered for this study. Any columns that contain string data, like the Airline column, will be converted to an integer.\n",
    "\n",
    "Finally, only flights from July will be considered for this study for all neural network experimentation. The original dataset had over 5 million records, so the stratified partitioning process alone took around 30 minutes. Additionally, it's unclear whether the inputs have any bearing on whether a flight's late. If the model has a difficult time predicting the classifications, evaluating one month initially avoids losing time on a model that may perform poorly no matter the number of records tested. July was selected as the month to study because it had the most flights, giving a good amount of data (~500,000) and significantly reducing processing time."
   ]
  },
  {
   "cell_type": "markdown",
   "metadata": {},
   "source": [
    "#### Activation Functions"
   ]
  },
  {
   "cell_type": "markdown",
   "metadata": {},
   "source": [
    "##### Tanh"
   ]
  },
  {
   "cell_type": "markdown",
   "metadata": {},
   "source": [
    "This is the baseline activation function that was used in this course and is commonly used in machine learning applications.\n",
    "\n",
    "Formula:\n",
    "$$\n",
    "        \\begin{align*}\n",
    "          h_2(a) & = \\tanh(a) = \\frac{e^{a} - e^{-a}}{e^{a} + e^{-a}}\n",
    "        \\end{align*}\n",
    "$$\n",
    "\n",
    "Derivative:\n",
    "$$\n",
    "    \\begin{align*}\n",
    "    f'(x) = 1 - tanh^2(x)\n",
    "    \\end{align*}\n",
    "$$"
   ]
  },
  {
   "cell_type": "markdown",
   "metadata": {},
   "source": [
    "##### Leaky ReLu"
   ]
  },
  {
   "cell_type": "markdown",
   "metadata": {},
   "source": [
    "Leaky ReLu is a modification of the ReLu activation function. The standard ReLu function can result in neurons that \"die\" by always returning 0 no matter what data is passed to them. Leaky ReLu attempts to alleviate this by multiplying the X value by a small number if it's less than 0 <sup>[1]</sup>. 0.01 was chosen as the small return value due to its widespread usage. This activation function was selected because it is an attempt to improve the ReLu function, which is generally regarded as a good activation function."
   ]
  },
  {
   "cell_type": "markdown",
   "metadata": {},
   "source": [
    "Formula:\n",
    "$$\n",
    "    \\begin{align*}\n",
    "        f(x) = (x < 0) (0.01(x)) + (x \\geq 0)(x)\n",
    "    \\end{align*}\n",
    "$$\n",
    "\n",
    "Derivative:\n",
    "$$\n",
    "    \\begin{align*}\n",
    "        f'(x)=\n",
    "    \\begin{cases}\n",
    "      1, & \\text{if}\\ x>0 \\\\\n",
    "      0.01, & \\text{otherwise}\n",
    "    \\end{cases}\n",
    "    \\end{align*}\n",
    "$$"
   ]
  },
  {
   "cell_type": "markdown",
   "metadata": {},
   "source": [
    "##### Softplus"
   ]
  },
  {
   "cell_type": "markdown",
   "metadata": {},
   "source": [
    "Softplus was also chosen as an activation function because it is described in the Deep Learning textbook as an inferior activation function <sup>[2]</sup>. Most activation functions are selected because of their general good performance, so Softplus is used in this project as a \"worst-case scenario\" to give a broader perspective on how important activation functions are to the success of a neural network."
   ]
  },
  {
   "cell_type": "markdown",
   "metadata": {},
   "source": [
    "Formula:\n",
    "$$\n",
    "    \\begin{align*}\n",
    "        f(x)=\\log(1+ e^x)\n",
    "    \\end{align*}\n",
    "$$\n",
    "\n",
    "Derivative:\n",
    "$$\n",
    "    \\begin{align*}\n",
    "        f'(x)= 1/(1 + e^{-x})\n",
    "    \\end{align*}\n",
    "$$\n"
   ]
  },
  {
   "cell_type": "markdown",
   "metadata": {},
   "source": [
    "#### 3rd-Party Packages"
   ]
  },
  {
   "cell_type": "markdown",
   "metadata": {},
   "source": [
    "##### PyTorch"
   ]
  },
  {
   "cell_type": "markdown",
   "metadata": {},
   "source": [
    "PyTorch is a popular Python package for conducting machine learning that simplifies the setup and execution of machine learning tasks, allowing a wider range of people to get involved in data science. Because it makes machine learning much more accessible, it is an important package to evaluate against the neural network developed in this course to ensure comparable results are possible with a \"plug and play\" solution.\n",
    "\n",
    "The PyTorch network will use tanh as its activation function."
   ]
  },
  {
   "cell_type": "markdown",
   "metadata": {},
   "source": [
    "##### Spark MLlib"
   ]
  },
  {
   "cell_type": "markdown",
   "metadata": {},
   "source": [
    "Spark is a machine learning package for use in distributed settings, so it's designed to efficiently analyze large datasets. The hypothesis is that designing a machine learning package to operate in a distributed setting requires a different design than a locally-used neural network, so its performance will be compared to the other networks' to investigate whether that's the case. Although it typically wouldn't be used to examine a dataset of this project's size, one of Spark's main features is its scalability, so theoretically it should achieve similar results no matter the file size.\n",
    "\n",
    "The function used to analyze the data is MLlib's multilayer perceptron classifier (MLPC) function. Being a feed-forward neural network, MLPC can't directly be compared to the other networks, but it is the closest approximation in the MLlib package for data classification.\n",
    "\n",
    "MLlib also provides its own partitioning function that will be used to partition the data during its run. The partitioning proportions will be examined to double-check that the data's being properly partitioned by this function.\n",
    "\n",
    "According to Apache's documentation, intermediate layers use the Sigmoid function and the output layer uses the Softmax function.<sup>[3]</sup>"
   ]
  },
  {
   "cell_type": "markdown",
   "metadata": {},
   "source": [
    "## Experimentation"
   ]
  },
  {
   "cell_type": "markdown",
   "metadata": {},
   "source": [
    "### Imports"
   ]
  },
  {
   "cell_type": "code",
   "execution_count": 1,
   "metadata": {},
   "outputs": [],
   "source": [
    "import neuralnetworksA4 as nn\n",
    "import mlutilities as ml\n",
    "import pandas\n",
    "import numpy as np\n",
    "import matplotlib.pyplot as plt\n",
    "%matplotlib inline"
   ]
  },
  {
   "cell_type": "markdown",
   "metadata": {},
   "source": [
    "### Code Definition"
   ]
  },
  {
   "cell_type": "code",
   "execution_count": 2,
   "metadata": {},
   "outputs": [],
   "source": [
    "class LeakyClassifier(nn.NeuralNetworkClassifier):\n",
    "    def activation(self, weighted_sum):\n",
    "        return np.maximum(0.01, weighted_sum)\n",
    "    def activationDerivative(self, activation_value):    \n",
    "        return np.clip(activation_value > 0, 0.01, 1.0)"
   ]
  },
  {
   "cell_type": "code",
   "execution_count": 3,
   "metadata": {},
   "outputs": [],
   "source": [
    "class SoftPlusClassifier(nn.NeuralNetworkClassifier):\n",
    "    def activation(self, weighted_sum):\n",
    "        return np.log(1 + np.exp(weighted_sum))\n",
    "    def activationDerivative(self, activation_value):\n",
    "        return (1/(1+np.exp(-activation_value)))"
   ]
  },
  {
   "cell_type": "code",
   "execution_count": 4,
   "metadata": {},
   "outputs": [],
   "source": [
    "def percentCorrect(resultsMatrix, expectedMatrix):\n",
    "    return np.sum(resultsMatrix.ravel()==expectedMatrix.ravel()) / float(len(expectedMatrix)) * 100"
   ]
  },
  {
   "cell_type": "markdown",
   "metadata": {},
   "source": [
    "### Data import"
   ]
  },
  {
   "cell_type": "code",
   "execution_count": 5,
   "metadata": {},
   "outputs": [],
   "source": [
    "airportsList = pandas.read_csv(\"airports.csv\", usecols=[0])"
   ]
  },
  {
   "cell_type": "code",
   "execution_count": 6,
   "metadata": {},
   "outputs": [],
   "source": [
    "airportsList.insert(0, 'airport_id', range(0, len(airportsList)))"
   ]
  },
  {
   "cell_type": "code",
   "execution_count": 7,
   "metadata": {
    "scrolled": true
   },
   "outputs": [
    {
     "data": {
      "text/plain": [
       "{'ABE': 0,\n",
       " 'ABI': 1,\n",
       " 'ABQ': 2,\n",
       " 'ABR': 3,\n",
       " 'ABY': 4,\n",
       " 'ACK': 5,\n",
       " 'ACT': 6,\n",
       " 'ACV': 7,\n",
       " 'ACY': 8,\n",
       " 'ADK': 9,\n",
       " 'ADQ': 10,\n",
       " 'AEX': 11,\n",
       " 'AGS': 12,\n",
       " 'AKN': 13,\n",
       " 'ALB': 14,\n",
       " 'ALO': 15,\n",
       " 'AMA': 16,\n",
       " 'ANC': 17,\n",
       " 'APN': 18,\n",
       " 'ASE': 19,\n",
       " 'ATL': 20,\n",
       " 'ATW': 21,\n",
       " 'AUS': 22,\n",
       " 'AVL': 23,\n",
       " 'AVP': 24,\n",
       " 'AZO': 25,\n",
       " 'BDL': 26,\n",
       " 'BET': 27,\n",
       " 'BFL': 28,\n",
       " 'BGM': 29,\n",
       " 'BGR': 30,\n",
       " 'BHM': 31,\n",
       " 'BIL': 32,\n",
       " 'BIS': 33,\n",
       " 'BJI': 34,\n",
       " 'BLI': 35,\n",
       " 'BMI': 36,\n",
       " 'BNA': 37,\n",
       " 'BOI': 38,\n",
       " 'BOS': 39,\n",
       " 'BPT': 40,\n",
       " 'BQK': 41,\n",
       " 'BQN': 42,\n",
       " 'BRD': 43,\n",
       " 'BRO': 44,\n",
       " 'BRW': 45,\n",
       " 'BTM': 46,\n",
       " 'BTR': 47,\n",
       " 'BTV': 48,\n",
       " 'BUF': 49,\n",
       " 'BUR': 50,\n",
       " 'BWI': 51,\n",
       " 'BZN': 52,\n",
       " 'CAE': 53,\n",
       " 'CAK': 54,\n",
       " 'CDC': 55,\n",
       " 'CDV': 56,\n",
       " 'CEC': 57,\n",
       " 'CHA': 58,\n",
       " 'CHO': 59,\n",
       " 'CHS': 60,\n",
       " 'CID': 61,\n",
       " 'CIU': 62,\n",
       " 'CLD': 63,\n",
       " 'CLE': 64,\n",
       " 'CLL': 65,\n",
       " 'CLT': 66,\n",
       " 'CMH': 67,\n",
       " 'CMI': 68,\n",
       " 'CMX': 69,\n",
       " 'CNY': 70,\n",
       " 'COD': 71,\n",
       " 'COS': 72,\n",
       " 'COU': 73,\n",
       " 'CPR': 74,\n",
       " 'CRP': 75,\n",
       " 'CRW': 76,\n",
       " 'CSG': 77,\n",
       " 'CVG': 78,\n",
       " 'CWA': 79,\n",
       " 'DAB': 80,\n",
       " 'DAL': 81,\n",
       " 'DAY': 82,\n",
       " 'DBQ': 83,\n",
       " 'DCA': 84,\n",
       " 'DEN': 85,\n",
       " 'DFW': 86,\n",
       " 'DHN': 87,\n",
       " 'DIK': 88,\n",
       " 'DLG': 89,\n",
       " 'DLH': 90,\n",
       " 'DRO': 91,\n",
       " 'DSM': 92,\n",
       " 'DTW': 93,\n",
       " 'DVL': 94,\n",
       " 'EAU': 95,\n",
       " 'ECP': 96,\n",
       " 'EGE': 97,\n",
       " 'EKO': 98,\n",
       " 'ELM': 99,\n",
       " 'ELP': 100,\n",
       " 'ERI': 101,\n",
       " 'ESC': 102,\n",
       " 'EUG': 103,\n",
       " 'EVV': 104,\n",
       " 'EWN': 105,\n",
       " 'EWR': 106,\n",
       " 'EYW': 107,\n",
       " 'FAI': 108,\n",
       " 'FAR': 109,\n",
       " 'FAT': 110,\n",
       " 'FAY': 111,\n",
       " 'FCA': 112,\n",
       " 'FLG': 113,\n",
       " 'FLL': 114,\n",
       " 'FNT': 115,\n",
       " 'FSD': 116,\n",
       " 'FSM': 117,\n",
       " 'FWA': 118,\n",
       " 'GCC': 119,\n",
       " 'GCK': 120,\n",
       " 'GEG': 121,\n",
       " 'GFK': 122,\n",
       " 'GGG': 123,\n",
       " 'GJT': 124,\n",
       " 'GNV': 125,\n",
       " 'GPT': 126,\n",
       " 'GRB': 127,\n",
       " 'GRI': 128,\n",
       " 'GRK': 129,\n",
       " 'GRR': 130,\n",
       " 'GSO': 131,\n",
       " 'GSP': 132,\n",
       " 'GST': 133,\n",
       " 'GTF': 134,\n",
       " 'GTR': 135,\n",
       " 'GUC': 136,\n",
       " 'GUM': 137,\n",
       " 'HDN': 138,\n",
       " 'HIB': 139,\n",
       " 'HLN': 140,\n",
       " 'HNL': 141,\n",
       " 'HOB': 142,\n",
       " 'HOU': 143,\n",
       " 'HPN': 144,\n",
       " 'HRL': 145,\n",
       " 'HSV': 146,\n",
       " 'HYA': 147,\n",
       " 'HYS': 148,\n",
       " 'IAD': 149,\n",
       " 'IAG': 150,\n",
       " 'IAH': 151,\n",
       " 'ICT': 152,\n",
       " 'IDA': 153,\n",
       " 'ILG': 154,\n",
       " 'ILM': 155,\n",
       " 'IMT': 156,\n",
       " 'IND': 157,\n",
       " 'INL': 158,\n",
       " 'ISN': 159,\n",
       " 'ISP': 160,\n",
       " 'ITH': 161,\n",
       " 'ITO': 162,\n",
       " 'JAC': 163,\n",
       " 'JAN': 164,\n",
       " 'JAX': 165,\n",
       " 'JFK': 166,\n",
       " 'JLN': 167,\n",
       " 'JMS': 168,\n",
       " 'JNU': 169,\n",
       " 'KOA': 170,\n",
       " 'KTN': 171,\n",
       " 'LAN': 172,\n",
       " 'LAR': 173,\n",
       " 'LAS': 174,\n",
       " 'LAW': 175,\n",
       " 'LAX': 176,\n",
       " 'LBB': 177,\n",
       " 'LBE': 178,\n",
       " 'LCH': 179,\n",
       " 'LEX': 180,\n",
       " 'LFT': 181,\n",
       " 'LGA': 182,\n",
       " 'LGB': 183,\n",
       " 'LIH': 184,\n",
       " 'LIT': 185,\n",
       " 'LNK': 186,\n",
       " 'LRD': 187,\n",
       " 'LSE': 188,\n",
       " 'LWS': 189,\n",
       " 'MAF': 190,\n",
       " 'MBS': 191,\n",
       " 'MCI': 192,\n",
       " 'MCO': 193,\n",
       " 'MDT': 194,\n",
       " 'MDW': 195,\n",
       " 'MEI': 196,\n",
       " 'MEM': 197,\n",
       " 'MFE': 198,\n",
       " 'MFR': 199,\n",
       " 'MGM': 200,\n",
       " 'MHK': 201,\n",
       " 'MHT': 202,\n",
       " 'MIA': 203,\n",
       " 'MKE': 204,\n",
       " 'MKG': 205,\n",
       " 'MLB': 206,\n",
       " 'MLI': 207,\n",
       " 'MLU': 208,\n",
       " 'MMH': 209,\n",
       " 'MOB': 210,\n",
       " 'MOT': 211,\n",
       " 'MQT': 212,\n",
       " 'MRY': 213,\n",
       " 'MSN': 214,\n",
       " 'MSO': 215,\n",
       " 'MSP': 216,\n",
       " 'MSY': 217,\n",
       " 'MTJ': 218,\n",
       " 'MVY': 219,\n",
       " 'MYR': 220,\n",
       " 'OAJ': 221,\n",
       " 'OAK': 222,\n",
       " 'OGG': 223,\n",
       " 'OKC': 224,\n",
       " 'OMA': 225,\n",
       " 'OME': 226,\n",
       " 'ONT': 227,\n",
       " 'ORD': 228,\n",
       " 'ORF': 229,\n",
       " 'ORH': 230,\n",
       " 'OTH': 231,\n",
       " 'OTZ': 232,\n",
       " 'PAH': 233,\n",
       " 'PBG': 234,\n",
       " 'PBI': 235,\n",
       " 'PDX': 236,\n",
       " 'PHF': 237,\n",
       " 'PHL': 238,\n",
       " 'PHX': 239,\n",
       " 'PIA': 240,\n",
       " 'PIB': 241,\n",
       " 'PIH': 242,\n",
       " 'PIT': 243,\n",
       " 'PLN': 244,\n",
       " 'PNS': 245,\n",
       " 'PPG': 246,\n",
       " 'PSC': 247,\n",
       " 'PSE': 248,\n",
       " 'PSG': 249,\n",
       " 'PSP': 250,\n",
       " 'PUB': 251,\n",
       " 'PVD': 252,\n",
       " 'PWM': 253,\n",
       " 'RAP': 254,\n",
       " 'RDD': 255,\n",
       " 'RDM': 256,\n",
       " 'RDU': 257,\n",
       " 'RHI': 258,\n",
       " 'RIC': 259,\n",
       " 'RKS': 260,\n",
       " 'RNO': 261,\n",
       " 'ROA': 262,\n",
       " 'ROC': 263,\n",
       " 'ROW': 264,\n",
       " 'RST': 265,\n",
       " 'RSW': 266,\n",
       " 'SAF': 267,\n",
       " 'SAN': 268,\n",
       " 'SAT': 269,\n",
       " 'SAV': 270,\n",
       " 'SBA': 271,\n",
       " 'SBN': 272,\n",
       " 'SBP': 273,\n",
       " 'SCC': 274,\n",
       " 'SCE': 275,\n",
       " 'SDF': 276,\n",
       " 'SEA': 277,\n",
       " 'SFO': 278,\n",
       " 'SGF': 279,\n",
       " 'SGU': 280,\n",
       " 'SHV': 281,\n",
       " 'SIT': 282,\n",
       " 'SJC': 283,\n",
       " 'SJT': 284,\n",
       " 'SJU': 285,\n",
       " 'SLC': 286,\n",
       " 'SMF': 287,\n",
       " 'SMX': 288,\n",
       " 'SNA': 289,\n",
       " 'SPI': 290,\n",
       " 'SPS': 291,\n",
       " 'SRQ': 292,\n",
       " 'STC': 293,\n",
       " 'STL': 294,\n",
       " 'STT': 295,\n",
       " 'STX': 296,\n",
       " 'SUN': 297,\n",
       " 'SUX': 298,\n",
       " 'SWF': 299,\n",
       " 'SYR': 300,\n",
       " 'TLH': 301,\n",
       " 'TOL': 302,\n",
       " 'TPA': 303,\n",
       " 'TRI': 304,\n",
       " 'TTN': 305,\n",
       " 'TUL': 306,\n",
       " 'TUS': 307,\n",
       " 'TVC': 308,\n",
       " 'TWF': 309,\n",
       " 'TXK': 310,\n",
       " 'TYR': 311,\n",
       " 'TYS': 312,\n",
       " 'UST': 313,\n",
       " 'VEL': 314,\n",
       " 'VLD': 315,\n",
       " 'VPS': 316,\n",
       " 'WRG': 317,\n",
       " 'WYS': 318,\n",
       " 'XNA': 319,\n",
       " 'YAK': 320,\n",
       " 'YUM': 321}"
      ]
     },
     "execution_count": 7,
     "metadata": {},
     "output_type": "execute_result"
    }
   ],
   "source": [
    "airportsDictionary = {}\n",
    "for row in airportsList.itertuples(index=False, name=None):\n",
    "     airportsDictionary[row[1]] = row[0]\n",
    "airportsDictionary"
   ]
  },
  {
   "cell_type": "code",
   "execution_count": 8,
   "metadata": {},
   "outputs": [
    {
     "data": {
      "text/plain": [
       "{'AA': 1,\n",
       " 'AS': 6,\n",
       " 'B6': 4,\n",
       " 'DL': 9,\n",
       " 'EV': 10,\n",
       " 'F9': 3,\n",
       " 'HA': 11,\n",
       " 'MQ': 12,\n",
       " 'NK': 7,\n",
       " 'OO': 5,\n",
       " 'UA': 0,\n",
       " 'US': 2,\n",
       " 'VX': 13,\n",
       " 'WN': 8}"
      ]
     },
     "execution_count": 8,
     "metadata": {},
     "output_type": "execute_result"
    }
   ],
   "source": [
    "airlinesList = pandas.read_csv(\"airlines.csv\")\n",
    "airlinesList.insert(0, 'airline_id', range(0, len(airlinesList)))\n",
    "airlinesList\n",
    "airlinesDictionary = {}\n",
    "for row in airlinesList.itertuples(index=False, name=None):\n",
    "     airlinesDictionary[row[1]] = row[0]\n",
    "airlinesDictionary"
   ]
  },
  {
   "cell_type": "code",
   "execution_count": 12,
   "metadata": {},
   "outputs": [],
   "source": [
    "convertAirports = {4: lambda a: float(airlinesDictionary[a]), 7: lambda o: float(airportsDictionary[o]), 8: lambda d: float(airportsDictionary[d])}"
   ]
  },
  {
   "cell_type": "code",
   "execution_count": 13,
   "metadata": {},
   "outputs": [],
   "source": [
    "originalFlightData = pandas.read_csv(\"flights.csv\", usecols=[0,1,2,3,4,5,6,7,8,9,15,17,22,24], converters = convertAirports, skiprows=lambda x: x in range(4385713, 4871878))"
   ]
  },
  {
   "cell_type": "code",
   "execution_count": 14,
   "metadata": {
    "scrolled": true
   },
   "outputs": [],
   "source": [
    "tailNumberList = []\n",
    "for row in originalFlightData.itertuples(index=False, name=None):\n",
    "    if row[6] not in tailNumberList:\n",
    "        tailNumberList.append(row[6])"
   ]
  },
  {
   "cell_type": "code",
   "execution_count": 15,
   "metadata": {
    "scrolled": false
   },
   "outputs": [],
   "source": [
    "tailNumberDictionary = {}\n",
    "i = 1.0\n",
    "for tailNumber in tailNumberList:\n",
    "    tailNumberDictionary[tailNumber] = i\n",
    "    i = i + 1\n",
    "tailNumberDictionary[''] = 0.0"
   ]
  },
  {
   "cell_type": "code",
   "execution_count": 16,
   "metadata": {},
   "outputs": [],
   "source": [
    "def convertDelay(time):\n",
    "    time = float(time)\n",
    "    if time < 0:\n",
    "        return 0.0 \n",
    "    if time > 0 and time < 15:\n",
    "        return 1.0\n",
    "    if time > 15:\n",
    "        return 2.0"
   ]
  },
  {
   "cell_type": "code",
   "execution_count": 17,
   "metadata": {},
   "outputs": [],
   "source": [
    "convertData = {4: lambda a: float(airlinesDictionary[a]), 6: lambda i: float(tailNumberDictionary[i]), 7: lambda o: float(airportsDictionary[o]), 8: lambda d: float(airportsDictionary[d])}"
   ]
  },
  {
   "cell_type": "code",
   "execution_count": 18,
   "metadata": {},
   "outputs": [],
   "source": [
    "convertedFlightData = pandas.read_csv(\"flights.csv\", usecols=[0,1,2,3,4,5,6,7,8,9,15,17,22,24], converters = convertData, skiprows=lambda x: x in range(4385713, 4871878))"
   ]
  },
  {
   "cell_type": "code",
   "execution_count": 19,
   "metadata": {},
   "outputs": [
    {
     "name": "stdout",
     "output_type": "stream",
     "text": [
      "1 (469968, 14)\n",
      "2 (429191, 14)\n",
      "3 (504312, 14)\n",
      "4 (485151, 14)\n",
      "5 (496993, 14)\n",
      "6 (503897, 14)\n",
      "7 (520718, 14)\n",
      "8 (510536, 14)\n",
      "9 (464946, 14)\n",
      "10 (0, 14)\n",
      "11 (467972, 14)\n",
      "12 (479230, 14)\n"
     ]
    }
   ],
   "source": [
    "for i in range(1, 13):\n",
    "    test = convertedFlightData.loc[convertedFlightData['MONTH'] == i]\n",
    "    print(i, test.shape)"
   ]
  },
  {
   "cell_type": "code",
   "execution_count": 20,
   "metadata": {
    "scrolled": true
   },
   "outputs": [],
   "source": [
    "#Keep only non-cancelled flights, drop cancelled column, convert everything to a float, \n",
    "#convert arrival delay to classifications, keep only June flight data to keep processing time reasonable.\n",
    "convertedFlightData = convertedFlightData[convertedFlightData.CANCELLED != 1]\n",
    "convertedFlightData = convertedFlightData.drop(['CANCELLED'], axis=1)\n",
    "convertedFlightData = pandas.DataFrame(convertedFlightData, dtype='float')\n",
    "convertedFlightData['ARRIVAL_DELAY'] = convertedFlightData['ARRIVAL_DELAY'].map(lambda x: convertDelay(x))\n",
    "julyData = convertedFlightData.loc[convertedFlightData['MONTH'] == 7.0]"
   ]
  },
  {
   "cell_type": "code",
   "execution_count": 21,
   "metadata": {},
   "outputs": [],
   "source": [
    "julyData.to_csv('~/Desktop/julyData.csv')"
   ]
  },
  {
   "cell_type": "code",
   "execution_count": 22,
   "metadata": {
    "scrolled": false
   },
   "outputs": [
    {
     "data": {
      "text/plain": [
       "((515912, 12), (515912, 1))"
      ]
     },
     "execution_count": 22,
     "metadata": {},
     "output_type": "execute_result"
    }
   ],
   "source": [
    "X = julyData.drop(['ARRIVAL_DELAY'], axis=1)\n",
    "T = julyData[['ARRIVAL_DELAY']]\n",
    "XMatrix = np.array(X)\n",
    "TMatrix = np.array(T)\n",
    "XMatrix.shape, TMatrix.shape"
   ]
  },
  {
   "cell_type": "markdown",
   "metadata": {},
   "source": [
    "### CS445 Neural Network Analysis"
   ]
  },
  {
   "cell_type": "code",
   "execution_count": 23,
   "metadata": {},
   "outputs": [
    {
     "name": "stdout",
     "output_type": "stream",
     "text": [
      "% Early:  58.79839972708524\n",
      "% On Time:  17.849943401200203\n",
      "% Late:  20.152080199723983\n"
     ]
    }
   ],
   "source": [
    "early = np.where(TMatrix == 0)\n",
    "onTime = np.where(TMatrix == 1)\n",
    "late = np.where(TMatrix == 2)\n",
    "print('% Early: ', ((early[0].size)/TMatrix.size * 100))\n",
    "print('% On Time: ', ((onTime[0].size)/TMatrix.size * 100))\n",
    "print('% Late: ', ((late[0].size)/TMatrix.size * 100))"
   ]
  },
  {
   "cell_type": "code",
   "execution_count": 24,
   "metadata": {},
   "outputs": [],
   "source": [
    "x_train, t_train, x_test, t_test = ml.partition(XMatrix, TMatrix, 0.8, shuffle=True, classification=True)"
   ]
  },
  {
   "cell_type": "code",
   "execution_count": 25,
   "metadata": {},
   "outputs": [
    {
     "data": {
      "text/plain": [
       "((399524, 12), (399524, 1), (99881, 12), (99881, 1))"
      ]
     },
     "execution_count": 25,
     "metadata": {},
     "output_type": "execute_result"
    }
   ],
   "source": [
    "x_train.shape, t_train.shape, x_test.shape, t_test.shape"
   ]
  },
  {
   "cell_type": "code",
   "execution_count": 26,
   "metadata": {},
   "outputs": [
    {
     "name": "stdout",
     "output_type": "stream",
     "text": [
      "% Early:  60.742283317147404\n",
      "% On Time:  18.439943532804037\n",
      "% Late:  20.81777315004856\n"
     ]
    }
   ],
   "source": [
    "tEarly = np.where(t_test == 0)\n",
    "tOnTime = np.where(t_test == 1)\n",
    "tLate = np.where(t_test == 2)\n",
    "print('% Early: ', ((tEarly[0].size)/t_test.size * 100))\n",
    "print('% On Time: ', ((tOnTime[0].size)/t_test.size * 100))\n",
    "print('% Late: ', ((tLate[0].size)/t_test.size * 100))"
   ]
  },
  {
   "cell_type": "markdown",
   "metadata": {},
   "source": [
    "#### Tanh Confusion Matrices and Plot"
   ]
  },
  {
   "cell_type": "code",
   "execution_count": 27,
   "metadata": {},
   "outputs": [
    {
     "name": "stdout",
     "output_type": "stream",
     "text": [
      "Tanh results:\n",
      "       0    1    2\n",
      "    ------------------\n",
      " 0 | 94.8  0.9  4.3\n",
      " 1 | 74.9  6.1 19.0\n",
      " 2 | 62.5  3.3 34.2\n",
      "Training - 100 iterations, 100 hidden units:  65.80180414693486 % correct\n",
      "       0    1    2\n",
      "    ------------------\n",
      " 0 | 94.6  0.9  4.5\n",
      " 1 | 75.3  6.2 18.5\n",
      " 2 | 62.8  3.2 34.0\n",
      "Testing - 100 iterations, 100 hidden units:  65.6661427098247 % correct\n"
     ]
    }
   ],
   "source": [
    "x_train, t_train, x_test, t_test = ml.partition(XMatrix, TMatrix, 0.8, shuffle=True, classification=True)\n",
    "neuralNet = nn.NeuralNetworkClassifier(x_train.shape[1], 100, len(np.unique(t_train)))\n",
    "neuralNet.train(x_train, t_train)\n",
    "trainPredictions = neuralNet.use(x_train)\n",
    "testPredictions = neuralNet.use(x_test)\n",
    "print('Tanh results:')\n",
    "ml.confusionMatrix(t_train, trainPredictions, [0, 1, 2])\n",
    "print('Training - 100 iterations, 100 hidden units: ', percentCorrect(trainPredictions, t_train), '% correct')\n",
    "ml.confusionMatrix(t_test, testPredictions, [0, 1, 2])\n",
    "print('Testing - 100 iterations, 100 hidden units: ', percentCorrect(testPredictions, t_test), '% correct')"
   ]
  },
  {
   "cell_type": "code",
   "execution_count": 28,
   "metadata": {
    "scrolled": false
   },
   "outputs": [
    {
     "data": {
      "image/png": "[encoded data removed]",
      "text/plain": [
       "<matplotlib.figure.Figure at 0x1290fa7f0>"
      ]
     },
     "metadata": {},
     "output_type": "display_data"
    }
   ],
   "source": [
    "plt.figure(figsize=(8,8))\n",
    "plt.title('Tanh Neural Network Predictions')\n",
    "plt.plot(t_test,lw=3)\n",
    "plt.plot(testPredictions,'o',alpha=0.3)\n",
    "plt.legend(('Actual','Predicted'), loc='best');"
   ]
  },
  {
   "cell_type": "markdown",
   "metadata": {},
   "source": [
    "#### Leaky ReLU Confusion Matrices and Plot"
   ]
  },
  {
   "cell_type": "code",
   "execution_count": 39,
   "metadata": {},
   "outputs": [
    {
     "name": "stdout",
     "output_type": "stream",
     "text": [
      "Leaky ReLu results: \n",
      "       0    1    2\n",
      "    ------------------\n",
      " 0 | 95.2  0.5  4.3\n",
      " 1 | 79.6  3.4 16.9\n",
      " 2 | 66.9  2.8 30.3\n",
      "Training - 100 iterations, 100 hidden units:  64.7840930707542 % correct\n",
      "       0    1    2\n",
      "    ------------------\n",
      " 0 | 95.2  0.4  4.3\n",
      " 1 | 79.4  3.3 17.3\n",
      " 2 | 66.7  2.5 30.8\n",
      "Testing - 100 iterations, 100 hidden units:  64.86018361850601 % correct\n"
     ]
    }
   ],
   "source": [
    "x_train, t_train, x_test, t_test = ml.partition(XMatrix, TMatrix, 0.8, shuffle=True, classification=True)\n",
    "leakyNeuralNet = LeakyClassifier(x_train.shape[1], 100, len(np.unique(t_train)))\n",
    "leakyNeuralNet.train(x_train, t_train)\n",
    "leakyTrainPredictions = leakyNeuralNet.use(x_train)\n",
    "leakyTestPredictions = leakyNeuralNet.use(x_test)\n",
    "print('Leaky ReLu results: ')\n",
    "ml.confusionMatrix(t_train, leakyTrainPredictions, [0, 1, 2])\n",
    "print('Training - 100 iterations, 100 hidden units: ', percentCorrect(leakyTrainPredictions, t_train), '% correct')\n",
    "ml.confusionMatrix(t_test, leakyTestPredictions, [0, 1, 2])\n",
    "print('Testing - 100 iterations, 100 hidden units: ', percentCorrect(leakyTestPredictions, t_test), '% correct')"
   ]
  },
  {
   "cell_type": "code",
   "execution_count": 40,
   "metadata": {
    "scrolled": false
   },
   "outputs": [
    {
     "data": {
      "image/png": "[encoded data removed]",
      "text/plain": [
       "<matplotlib.figure.Figure at 0x12f343048>"
      ]
     },
     "metadata": {},
     "output_type": "display_data"
    }
   ],
   "source": [
    "plt.figure(figsize=(8,8))\n",
    "plt.title('Leaky ReLU Neural Network Predictions')\n",
    "plt.plot(t_test,lw=3)\n",
    "plt.plot(leakyTestPredictions,'o',alpha=0.3)\n",
    "plt.legend(('Actual','Predicted'), loc='best');"
   ]
  },
  {
   "cell_type": "markdown",
   "metadata": {},
   "source": [
    "#### Softplus Confusion Matrices and Plot"
   ]
  },
  {
   "cell_type": "code",
   "execution_count": 41,
   "metadata": {},
   "outputs": [
    {
     "name": "stdout",
     "output_type": "stream",
     "text": [
      "Softplus results:\n",
      "       0    1    2\n",
      "    ------------------\n",
      " 0 | 95.3  0.1  4.6\n",
      " 1 | 80.0  1.1 18.8\n",
      " 2 | 66.8  1.2 32.0\n",
      "Training - 100 iterations, 100 hidden units:  64.74679869044162 % correct\n",
      "       0    1    2\n",
      "    ------------------\n",
      " 0 | 95.2  0.1  4.7\n",
      " 1 | 80.3  1.2 18.5\n",
      " 2 | 67.1  1.2 31.7\n",
      "Testing - 100 iterations, 100 hidden units:  64.66094652636639 % correct\n"
     ]
    }
   ],
   "source": [
    "x_train, t_train, x_test, t_test = ml.partition(XMatrix, TMatrix, 0.8, shuffle=True, classification=True)\n",
    "softplusNeuralNet = SoftPlusClassifier(x_train.shape[1], 100, len(np.unique(t_train)))\n",
    "softplusNeuralNet.train(x_train, t_train)\n",
    "softTrainPredictions = softplusNeuralNet.use(x_train)\n",
    "softTestPredictions = softplusNeuralNet.use(x_test)\n",
    "print('Softplus results:')\n",
    "ml.confusionMatrix(t_train, softTrainPredictions, [0, 1, 2])\n",
    "print('Training - 100 iterations, 100 hidden units: ', percentCorrect(softTrainPredictions, t_train), '% correct')\n",
    "ml.confusionMatrix(t_test, softTestPredictions, [0, 1, 2])\n",
    "print('Testing - 100 iterations, 100 hidden units: ', percentCorrect(softTestPredictions, t_test), '% correct')"
   ]
  },
  {
   "cell_type": "code",
   "execution_count": 42,
   "metadata": {},
   "outputs": [
    {
     "data": {
      "image/png": "[encoded data removed]",
      "text/plain": [
       "<matplotlib.figure.Figure at 0x1125cb780>"
      ]
     },
     "metadata": {},
     "output_type": "display_data"
    }
   ],
   "source": [
    "plt.figure(figsize=(8,8))\n",
    "plt.title('Softplus Neural Network Predictions')\n",
    "plt.plot(t_test,lw=3)\n",
    "plt.plot(softTestPredictions,'o',alpha=0.3)\n",
    "plt.legend(('Actual','Predicted'), loc='best');"
   ]
  },
  {
   "cell_type": "markdown",
   "metadata": {},
   "source": [
    "### PyTorch Neural Network Analysis"
   ]
  },
  {
   "cell_type": "code",
   "execution_count": 66,
   "metadata": {},
   "outputs": [],
   "source": [
    "import torch\n",
    "import torch.nn as tnn\n",
    "import torch.nn.functional as F\n",
    "import torch.optim as optim\n",
    "import torch.utils.data as tdata\n",
    "\n",
    "class Net(tnn.Module):\n",
    "\n",
    "    def __init__(self):\n",
    "        super(Net, self).__init__()\n",
    "        self.fc1 = tnn.Linear(12, 100)\n",
    "        self.fc2 = tnn.Linear(100, 100)\n",
    "        self.fc3 = tnn.Linear(100, 3)\n",
    "\n",
    "    def forward(self, x):\n",
    "        x = F.tanh(self.fc1(x))\n",
    "        x = F.tanh(self.fc2(x))\n",
    "        x = self.fc3(x)\n",
    "        return x\n",
    "    \n",
    "\n",
    "net = Net()\n",
    "\n",
    "criterion = tnn.CrossEntropyLoss() #Combines logsoftmax and negative log likelihood into one function\n",
    "optimizer = optim.SGD(net.parameters(), lr=0.001, momentum=0.9) #SGD\n",
    "\n",
    "#Transform data into PyTorch tensors.\n",
    "torchTrainData = tdata.TensorDataset(torch.from_numpy(x_train).float(), torch.squeeze(torch.from_numpy(t_train).float()))\n",
    "trainLoader = tdata.DataLoader(torchTrainData, batch_size=1, shuffle=True)\n",
    "\n",
    "torchTestData = tdata.TensorDataset(torch.from_numpy(x_test).float(), torch.squeeze(torch.from_numpy(t_test).float()))\n",
    "testLoader = tdata.DataLoader(torchTestData, batch_size=1, shuffle=True)"
   ]
  },
  {
   "cell_type": "code",
   "execution_count": 67,
   "metadata": {},
   "outputs": [
    {
     "name": "stdout",
     "output_type": "stream",
     "text": [
      "[1, 40000] loss: 0.944\n",
      "[1, 80000] loss: 0.945\n",
      "[1, 120000] loss: 0.945\n",
      "[1, 160000] loss: 0.941\n",
      "[1, 200000] loss: 0.946\n",
      "[1, 240000] loss: 0.948\n",
      "[1, 280000] loss: 0.939\n",
      "[1, 320000] loss: 0.940\n",
      "[1, 360000] loss: 0.945\n",
      "[2, 40000] loss: 0.947\n",
      "[2, 80000] loss: 0.942\n",
      "[2, 120000] loss: 0.948\n",
      "[2, 160000] loss: 0.945\n",
      "[2, 200000] loss: 0.948\n",
      "[2, 240000] loss: 0.942\n",
      "[2, 280000] loss: 0.941\n",
      "[2, 320000] loss: 0.935\n",
      "[2, 360000] loss: 0.939\n",
      "[3, 40000] loss: 0.946\n",
      "[3, 80000] loss: 0.940\n",
      "[3, 120000] loss: 0.941\n",
      "[3, 160000] loss: 0.941\n",
      "[3, 200000] loss: 0.944\n",
      "[3, 240000] loss: 0.941\n",
      "[3, 280000] loss: 0.944\n",
      "[3, 320000] loss: 0.944\n",
      "[3, 360000] loss: 0.941\n",
      "Finished Training\n"
     ]
    }
   ],
   "source": [
    "#Train loop\n",
    "Iterations = 3\n",
    "for iteration in range(Iterations):\n",
    "    running_loss = 0.0\n",
    "    for i, data in enumerate(trainLoader, 0):\n",
    "        # get the inputs\n",
    "        inputs, labels = data\n",
    "\n",
    "        # zero the parameter gradients\n",
    "        optimizer.zero_grad()\n",
    "\n",
    "        # forward + backward + optimize\n",
    "        outputs = net(inputs)\n",
    "        loss = criterion(outputs, labels.long())\n",
    "        loss.backward()\n",
    "        optimizer.step()\n",
    "\n",
    "        # print statistics\n",
    "        running_loss += loss.item()\n",
    "        if i % 40000 == 39999:    # print every 100000 mini-batches\n",
    "            print('[%d, %5d] loss: %.3f' %\n",
    "                  (iteration + 1, i + 1, running_loss / 40000))\n",
    "            running_loss = 0.0\n",
    "\n",
    "print('Finished Training')"
   ]
  },
  {
   "cell_type": "code",
   "execution_count": 68,
   "metadata": {},
   "outputs": [
    {
     "name": "stdout",
     "output_type": "stream",
     "text": [
      "Accuracy of the network on the test flights: 60 %\n"
     ]
    }
   ],
   "source": [
    "correct = 0\n",
    "total = 0\n",
    "predictions = []\n",
    "with torch.no_grad():\n",
    "    for data in testLoader:\n",
    "        flights, labels = data\n",
    "        outputs = net(flights)\n",
    "        _, predicted = torch.max(outputs.data, 1)\n",
    "        predictions.append(predicted)\n",
    "        total += labels.size(0)\n",
    "        correct += (predicted == labels.long()).sum().item()\n",
    "\n",
    "print('Accuracy of the network on the test flights: %d %%' % (\n",
    "    100 * correct / total))"
   ]
  },
  {
   "cell_type": "code",
   "execution_count": 69,
   "metadata": {
    "scrolled": true
   },
   "outputs": [],
   "source": [
    "#print confusion matrix\n",
    "classes = ('early', 'on time', 'late')\n",
    "class_correct = list(0. for i in range(3))\n",
    "class_total = list(0. for i in range(3))\n",
    "predictions = []\n",
    "with torch.no_grad():\n",
    "    for data in testLoader:\n",
    "        flights, labels = data\n",
    "        labels = labels.long()\n",
    "        outputs = net(flights)\n",
    "        _, predicted = torch.max(outputs, 1)\n",
    "        c = (predicted == labels).squeeze()\n",
    "        predictions.append(predicted)\n",
    "        for i in range(4):\n",
    "            label = labels.item()\n",
    "            class_correct[label] += c.sum().item()\n",
    "            class_total[label] += 1"
   ]
  },
  {
   "cell_type": "code",
   "execution_count": 70,
   "metadata": {},
   "outputs": [
    {
     "name": "stdout",
     "output_type": "stream",
     "text": [
      "Accuracy of early : 100 %\n",
      "242680.0  correct out of  242680.0\n",
      "Accuracy of on time :  0 %\n",
      "0.0  correct out of  73672.0\n",
      "Accuracy of  late :  0 %\n",
      "0.0  correct out of  83172.0\n"
     ]
    }
   ],
   "source": [
    "for i in range(3):\n",
    "    print('Accuracy of %5s : %2d %%' % (\n",
    "        classes[i], 100 * class_correct[i] / class_total[i]))\n",
    "    print(class_correct[i], ' correct out of ', class_total[i])"
   ]
  },
  {
   "cell_type": "code",
   "execution_count": 71,
   "metadata": {
    "scrolled": false
   },
   "outputs": [],
   "source": [
    "pyTorchPredictions = np.array(predictions)"
   ]
  },
  {
   "cell_type": "markdown",
   "metadata": {},
   "source": [
    "#### PyTorch Confusion Matrices and Plot"
   ]
  },
  {
   "cell_type": "code",
   "execution_count": 72,
   "metadata": {},
   "outputs": [
    {
     "name": "stdout",
     "output_type": "stream",
     "text": [
      "       0    1    2\n",
      "    ------------------\n",
      " 0 |100.0  0    0  \n",
      " 1 |100.0  0    0  \n",
      " 2 |100.0  0    0  \n"
     ]
    },
    {
     "data": {
      "text/plain": [
       "array([[1., 0., 0.],\n",
       "       [1., 0., 0.],\n",
       "       [1., 0., 0.]])"
      ]
     },
     "execution_count": 72,
     "metadata": {},
     "output_type": "execute_result"
    }
   ],
   "source": [
    "ml.confusionMatrix(t_test, pyTorchPredictions, [0, 1, 2])"
   ]
  },
  {
   "cell_type": "code",
   "execution_count": 81,
   "metadata": {},
   "outputs": [
    {
     "data": {
      "image/png": "[encoded data removed]",
      "text/plain": [
       "<matplotlib.figure.Figure at 0x1125a00b8>"
      ]
     },
     "metadata": {},
     "output_type": "display_data"
    }
   ],
   "source": [
    "plt.figure(figsize=(8,8))\n",
    "plt.plot(t_test,lw=3)\n",
    "plt.plot(pyTorchPredictions,'o',alpha=0.3)\n",
    "plt.title('PyTorch Neural Network Test Predictions')\n",
    "plt.legend(('Actual','Predicted'), loc='best');"
   ]
  },
  {
   "cell_type": "markdown",
   "metadata": {},
   "source": [
    "### Spark Neural Network Analysis"
   ]
  },
  {
   "cell_type": "markdown",
   "metadata": {},
   "source": [
    "Copy and paste below text into a PySpark shell to execute."
   ]
  },
  {
   "cell_type": "markdown",
   "metadata": {},
   "source": [
    "import pandas as pd<br>\n",
    "from pyspark.ml.classification import MultilayerPerceptronClassifier<br>\n",
    "from pyspark.ml.evaluation import MulticlassClassificationEvaluator<br>\n",
    "from pyspark.mllib.util import MLUtils<br>\n",
    "from pyspark.mllib.regression import LabeledPoint<br>\n",
    "<br>\n",
    "spark = SparkSession.builder.getOrCreate()<br>\n",
    "julyData = pd.read_csv('../julyData.csv')<br>\n",
    "<br>\n",
    "julyData = julyData.drop(['Unnamed: 0'], axis=1) #Drop auto-generated columns.<br>\n",
    "<br>\n",
    "#Spark reads in some numbers as NaN even though this is the same file as used for the other experiments, so drop NaNs.<br>\n",
    "julyData = julyData.dropna()<br>\n",
    "julyData.count()<br>\n",
    "499405<br>\n",
    "<br>\n",
    "sparkJuly = spark.createDataFrame(julyData) #convert from Pandas dataframe to Spark dataframe for easier mapping + saving.<br>\n",
    "<br>\n",
    "julyRDD = sparkJuly.rdd #convert to an RDD to allow mapping the data to Labeled Point objects<br>\n",
    "<br>\n",
    "julyRDD.take(1)<br>\n",
    "[Row(YEAR=2015.0, MONTH=7.0, DAY=1.0, DAY_OF_WEEK=3.0, AIRLINE=7.0, FLIGHT_NUMBER=298.0, TAIL_NUMBER=3708.0, ORIGIN_AIRPORT=174.0, DESTINATION_AIRPORT=151.0, SCHEDULED_DEPARTURE=3.0, ELAPSED_TIME=179.0, DISTANCE=1222.0, ARRIVAL_DELAY=2.0)]<br>\n",
    "<br>\n",
    "#Map data to labeled points as tuple of (classification, [features])<br>\n",
    "julyLP = julyRDD.map(lambda line: LabeledPoint(line[12], line[:12]))<br>\n",
    "<br>\n",
    "julyLP.take(1)<br>\n",
    "[LabeledPoint(1.0, [2015.0,7.0,15.0,3.0,0.0,756.0,367.0,149.0,85.0,828.0,236.0,1452.0])]<br>\n",
    "<br>\n",
    "#Coalesce data into one partition, otherwise Spark will write out 15 files instead of 1.<br>\n",
    "coaJulyLP = julyLP.coalesce(1)<br>\n",
    "<br>\n",
    "#Save as SVM files, which Spark requires for its neural networks. <br>\n",
    "#Format: classification 1:feature 1 value 2:feature 2 value ... n:feature n value<br>\n",
    "MLUtils.saveAsLibSVMFile(coaJulyLP, \"../julyData\")<br>\n",
    "<br>\n",
    "finalData = spark.read.format(\"libsvm\").load(\"../julyData/part-00000\")<br>\n",
    "<br>\n",
    "#randomly split data, unclear if proportion of each classification is maintained<br>\n",
    "#more information here: https://stackoverflow.com/questions/32933143/how-does-sparks-rdd-randomsplit-actually-split-the-rdd<br>\n",
    "splits = finalData.randomSplit([0.8, 0.2], 1234)<br>\n",
    "train = splits[0]<br>\n",
    "test = splits[1]<br>\n",
    "<br>\n",
    "#12 input features, 100 hidden units, 3 output<br>\n",
    "layers = [12, 100, 3]<br>\n",
    "<br>\n",
    "trainer = MultilayerPerceptronClassifier(maxIter=100, layers=layers, blockSize=128, seed=1234, stepSize=0.001)<br>\n",
    "<br>\n",
    "model = trainer.fit(train)<br>\n",
    "result = model.transform(test)<br>\n",
    "resultPD = result.toPandas()<br>\n",
    "resultPD.to_csv(\"../resultsCSV\")<br>\n",
    "<br>\n",
    "result.show()<br>\n",
    "<br>\n",
    "+-----+--------------------+----------+<br>\n",
    "|label|            features|prediction|<br>\n",
    "+-----+--------------------+----------+<br>\n",
    "|  0.0|(12,[0,1,2,3,4,5,...|       0.0|<br>\n",
    "|  0.0|(12,[0,1,2,3,4,5,...|       0.0|<br>\n",
    "|  0.0|(12,[0,1,2,3,4,5,...|       0.0|<br>\n",
    "|  0.0|(12,[0,1,2,3,4,5,...|       0.0|<br>\n",
    "|  0.0|(12,[0,1,2,3,4,5,...|       0.0|<br>\n",
    "|  0.0|(12,[0,1,2,3,4,5,...|       0.0|<br>\n",
    "|  0.0|(12,[0,1,2,3,4,5,...|       0.0|<br>\n",
    "|  0.0|(12,[0,1,2,3,4,5,...|       0.0|<br>\n",
    "|  0.0|(12,[0,1,2,3,4,5,...|       0.0|<br>\n",
    "|  0.0|(12,[0,1,2,3,4,5,...|       0.0|<br>\n",
    "|  0.0|(12,[0,1,2,3,4,5,...|       0.0|<br>\n",
    "|  0.0|(12,[0,1,2,3,4,5,...|       0.0|<br>\n",
    "|  0.0|(12,[0,1,2,3,4,5,...|       0.0|<br>\n",
    "|  0.0|(12,[0,1,2,3,4,5,...|       0.0|<br>\n",
    "|  0.0|(12,[0,1,2,3,4,5,...|       0.0|<br>\n",
    "|  0.0|(12,[0,1,2,3,4,5,...|       0.0|<br>\n",
    "|  0.0|(12,[0,1,2,3,4,5,...|       0.0|<br>\n",
    "|  0.0|(12,[0,1,2,3,4,5,...|       0.0|<br>\n",
    "|  0.0|(12,[0,1,2,3,4,5,...|       0.0|<br>\n",
    "|  0.0|(12,[0,1,2,3,4,5,...|       0.0|<br>\n",
    "+-----+--------------------+----------+<br>\n",
    "only showing top 20 rows<br>\n",
    "            <br>\n",
    "evaluator = MulticlassClassificationEvaluator(metricName=\"accuracy\")<br>\n",
    "predictionAndLabels = result.select(\"prediction\", \"label\")<br>\n",
    "print(\"Test set accuracy = \" + str(evaluator.evaluate(predictionAndLabels)*100) + \"%\")<br>\n",
    "\n",
    "### Test set accuracy = 60.668957296122294%"
   ]
  },
  {
   "cell_type": "markdown",
   "metadata": {},
   "source": [
    "#### Partitioning Evaluation"
   ]
  },
  {
   "cell_type": "markdown",
   "metadata": {},
   "source": [
    "#train<br>\n",
    "tZeroes = train.where(train['label'] == 0.0)<br>\n",
    "tZeroes.count()<br>\n",
    "242775 <br>\n",
    "\n",
    "tOnes = train.where(train['label'] == 1.0)<br>\n",
    "tOnes.count()<br>\n",
    "73592<br>  \n",
    "\n",
    "tTwos = train.where(train['label'] == 2.0)<br>\n",
    "tTwos.count()<br>\n",
    "83211 <br>\n",
    "\n",
    "#test<br>\n",
    "zeroes = test.where(test['label'] == 0.0)<br>\n",
    "zeroes.count()<br>\n",
    "60573    <br>\n",
    "\n",
    "ones = test.where(test['label'] == 1.0)<br>\n",
    "ones.count()<br>\n",
    "18498  <br>\n",
    "\n",
    "twos = test.where(test['label'] == 2.0)<br>\n",
    "twos.count()<br>\n",
    "20756<br>"
   ]
  },
  {
   "cell_type": "markdown",
   "metadata": {},
   "source": [
    "#### Verifying the original classification proportions were maintained by Spark's randomSplit method"
   ]
  },
  {
   "cell_type": "code",
   "execution_count": 74,
   "metadata": {},
   "outputs": [
    {
     "data": {
      "text/plain": [
       "(399578, 0.6075784953125547, 0.1841743038906046, 0.20824720079684067)"
      ]
     },
     "execution_count": 74,
     "metadata": {},
     "output_type": "execute_result"
    }
   ],
   "source": [
    "trainCount = 242775 + 73592 + 83211\n",
    "train0 = 242775/trainCount\n",
    "train1 = 73592/trainCount\n",
    "train2 = 83211/trainCount\n",
    "trainCount, train0, train1, train2"
   ]
  },
  {
   "cell_type": "code",
   "execution_count": 75,
   "metadata": {},
   "outputs": [
    {
     "data": {
      "text/plain": [
       "(99827, 0.6067797289310507, 0.1853005699860759, 0.20791970108287336)"
      ]
     },
     "execution_count": 75,
     "metadata": {},
     "output_type": "execute_result"
    }
   ],
   "source": [
    "testCount = 60573 + 18498 + 20756\n",
    "test0s = 60573\n",
    "test1s = 18498\n",
    "test2s = 20756\n",
    "testCount, test0s/testCount, test1s/testCount, test2s/testCount"
   ]
  },
  {
   "cell_type": "code",
   "execution_count": 76,
   "metadata": {},
   "outputs": [
    {
     "data": {
      "text/plain": [
       "499405"
      ]
     },
     "execution_count": 76,
     "metadata": {},
     "output_type": "execute_result"
    }
   ],
   "source": [
    "totalCount = trainCount + testCount\n",
    "totalCount"
   ]
  },
  {
   "cell_type": "markdown",
   "metadata": {},
   "source": [
    "#### Test Data Accuracy Evaluation"
   ]
  },
  {
   "cell_type": "markdown",
   "metadata": {},
   "source": [
    "#### Spark Test data analysis"
   ]
  },
  {
   "cell_type": "code",
   "execution_count": 82,
   "metadata": {},
   "outputs": [
    {
     "data": {
      "text/html": [
       "<div>\n",
       "<style scoped>\n",
       "    .dataframe tbody tr th:only-of-type {\n",
       "        vertical-align: middle;\n",
       "    }\n",
       "\n",
       "    .dataframe tbody tr th {\n",
       "        vertical-align: top;\n",
       "    }\n",
       "\n",
       "    .dataframe thead th {\n",
       "        text-align: right;\n",
       "    }\n",
       "</style>\n",
       "<table border=\"1\" class=\"dataframe\">\n",
       "  <thead>\n",
       "    <tr style=\"text-align: right;\">\n",
       "      <th></th>\n",
       "      <th>Unnamed: 0</th>\n",
       "      <th>label</th>\n",
       "      <th>features</th>\n",
       "      <th>prediction</th>\n",
       "    </tr>\n",
       "  </thead>\n",
       "  <tbody>\n",
       "    <tr>\n",
       "      <th>0</th>\n",
       "      <td>0</td>\n",
       "      <td>0.0</td>\n",
       "      <td>(12,[0,1,2,3,4,5,6,7,8,9,10,11],[2015.0,7.0,1....</td>\n",
       "      <td>0.0</td>\n",
       "    </tr>\n",
       "    <tr>\n",
       "      <th>35017</th>\n",
       "      <td>35017</td>\n",
       "      <td>0.0</td>\n",
       "      <td>(12,[0,1,2,3,4,5,6,7,8,9,10,11],[2015.0,7.0,5....</td>\n",
       "      <td>0.0</td>\n",
       "    </tr>\n",
       "    <tr>\n",
       "      <th>35018</th>\n",
       "      <td>35018</td>\n",
       "      <td>0.0</td>\n",
       "      <td>(12,[0,1,2,3,4,5,6,7,8,9,10,11],[2015.0,7.0,5....</td>\n",
       "      <td>0.0</td>\n",
       "    </tr>\n",
       "    <tr>\n",
       "      <th>35019</th>\n",
       "      <td>35019</td>\n",
       "      <td>0.0</td>\n",
       "      <td>(12,[0,1,2,3,4,5,6,7,8,9,10,11],[2015.0,7.0,5....</td>\n",
       "      <td>0.0</td>\n",
       "    </tr>\n",
       "    <tr>\n",
       "      <th>35020</th>\n",
       "      <td>35020</td>\n",
       "      <td>0.0</td>\n",
       "      <td>(12,[0,1,2,3,4,5,6,7,8,9,10,11],[2015.0,7.0,5....</td>\n",
       "      <td>0.0</td>\n",
       "    </tr>\n",
       "    <tr>\n",
       "      <th>35021</th>\n",
       "      <td>35021</td>\n",
       "      <td>0.0</td>\n",
       "      <td>(12,[0,1,2,3,4,5,6,7,8,9,10,11],[2015.0,7.0,5....</td>\n",
       "      <td>0.0</td>\n",
       "    </tr>\n",
       "    <tr>\n",
       "      <th>35022</th>\n",
       "      <td>35022</td>\n",
       "      <td>0.0</td>\n",
       "      <td>(12,[0,1,2,3,4,5,6,7,8,9,10,11],[2015.0,7.0,5....</td>\n",
       "      <td>0.0</td>\n",
       "    </tr>\n",
       "    <tr>\n",
       "      <th>35023</th>\n",
       "      <td>35023</td>\n",
       "      <td>0.0</td>\n",
       "      <td>(12,[0,1,2,3,4,5,6,7,8,9,10,11],[2015.0,7.0,5....</td>\n",
       "      <td>0.0</td>\n",
       "    </tr>\n",
       "    <tr>\n",
       "      <th>35024</th>\n",
       "      <td>35024</td>\n",
       "      <td>0.0</td>\n",
       "      <td>(12,[0,1,2,3,4,5,6,7,8,9,10,11],[2015.0,7.0,5....</td>\n",
       "      <td>0.0</td>\n",
       "    </tr>\n",
       "    <tr>\n",
       "      <th>35025</th>\n",
       "      <td>35025</td>\n",
       "      <td>0.0</td>\n",
       "      <td>(12,[0,1,2,3,4,5,6,7,8,9,10,11],[2015.0,7.0,5....</td>\n",
       "      <td>0.0</td>\n",
       "    </tr>\n",
       "    <tr>\n",
       "      <th>35026</th>\n",
       "      <td>35026</td>\n",
       "      <td>0.0</td>\n",
       "      <td>(12,[0,1,2,3,4,5,6,7,8,9,10,11],[2015.0,7.0,5....</td>\n",
       "      <td>0.0</td>\n",
       "    </tr>\n",
       "    <tr>\n",
       "      <th>35027</th>\n",
       "      <td>35027</td>\n",
       "      <td>0.0</td>\n",
       "      <td>(12,[0,1,2,3,4,5,6,7,8,9,10,11],[2015.0,7.0,5....</td>\n",
       "      <td>0.0</td>\n",
       "    </tr>\n",
       "    <tr>\n",
       "      <th>35028</th>\n",
       "      <td>35028</td>\n",
       "      <td>0.0</td>\n",
       "      <td>(12,[0,1,2,3,4,5,6,7,8,9,10,11],[2015.0,7.0,5....</td>\n",
       "      <td>0.0</td>\n",
       "    </tr>\n",
       "    <tr>\n",
       "      <th>35029</th>\n",
       "      <td>35029</td>\n",
       "      <td>0.0</td>\n",
       "      <td>(12,[0,1,2,3,4,5,6,7,8,9,10,11],[2015.0,7.0,5....</td>\n",
       "      <td>0.0</td>\n",
       "    </tr>\n",
       "    <tr>\n",
       "      <th>35030</th>\n",
       "      <td>35030</td>\n",
       "      <td>0.0</td>\n",
       "      <td>(12,[0,1,2,3,4,5,6,7,8,9,10,11],[2015.0,7.0,5....</td>\n",
       "      <td>0.0</td>\n",
       "    </tr>\n",
       "    <tr>\n",
       "      <th>35031</th>\n",
       "      <td>35031</td>\n",
       "      <td>0.0</td>\n",
       "      <td>(12,[0,1,2,3,4,5,6,7,8,9,10,11],[2015.0,7.0,5....</td>\n",
       "      <td>0.0</td>\n",
       "    </tr>\n",
       "    <tr>\n",
       "      <th>35032</th>\n",
       "      <td>35032</td>\n",
       "      <td>0.0</td>\n",
       "      <td>(12,[0,1,2,3,4,5,6,7,8,9,10,11],[2015.0,7.0,5....</td>\n",
       "      <td>0.0</td>\n",
       "    </tr>\n",
       "    <tr>\n",
       "      <th>35033</th>\n",
       "      <td>35033</td>\n",
       "      <td>0.0</td>\n",
       "      <td>(12,[0,1,2,3,4,5,6,7,8,9,10,11],[2015.0,7.0,5....</td>\n",
       "      <td>0.0</td>\n",
       "    </tr>\n",
       "    <tr>\n",
       "      <th>35034</th>\n",
       "      <td>35034</td>\n",
       "      <td>0.0</td>\n",
       "      <td>(12,[0,1,2,3,4,5,6,7,8,9,10,11],[2015.0,7.0,5....</td>\n",
       "      <td>0.0</td>\n",
       "    </tr>\n",
       "    <tr>\n",
       "      <th>35035</th>\n",
       "      <td>35035</td>\n",
       "      <td>0.0</td>\n",
       "      <td>(12,[0,1,2,3,4,5,6,7,8,9,10,11],[2015.0,7.0,5....</td>\n",
       "      <td>0.0</td>\n",
       "    </tr>\n",
       "    <tr>\n",
       "      <th>35036</th>\n",
       "      <td>35036</td>\n",
       "      <td>0.0</td>\n",
       "      <td>(12,[0,1,2,3,4,5,6,7,8,9,10,11],[2015.0,7.0,5....</td>\n",
       "      <td>0.0</td>\n",
       "    </tr>\n",
       "    <tr>\n",
       "      <th>35037</th>\n",
       "      <td>35037</td>\n",
       "      <td>0.0</td>\n",
       "      <td>(12,[0,1,2,3,4,5,6,7,8,9,10,11],[2015.0,7.0,5....</td>\n",
       "      <td>0.0</td>\n",
       "    </tr>\n",
       "    <tr>\n",
       "      <th>35016</th>\n",
       "      <td>35016</td>\n",
       "      <td>0.0</td>\n",
       "      <td>(12,[0,1,2,3,4,5,6,7,8,9,10,11],[2015.0,7.0,5....</td>\n",
       "      <td>0.0</td>\n",
       "    </tr>\n",
       "    <tr>\n",
       "      <th>35038</th>\n",
       "      <td>35038</td>\n",
       "      <td>0.0</td>\n",
       "      <td>(12,[0,1,2,3,4,5,6,7,8,9,10,11],[2015.0,7.0,5....</td>\n",
       "      <td>0.0</td>\n",
       "    </tr>\n",
       "    <tr>\n",
       "      <th>35015</th>\n",
       "      <td>35015</td>\n",
       "      <td>0.0</td>\n",
       "      <td>(12,[0,1,2,3,4,5,6,7,8,9,10,11],[2015.0,7.0,5....</td>\n",
       "      <td>0.0</td>\n",
       "    </tr>\n",
       "    <tr>\n",
       "      <th>35013</th>\n",
       "      <td>35013</td>\n",
       "      <td>0.0</td>\n",
       "      <td>(12,[0,1,2,3,4,5,6,7,8,9,10,11],[2015.0,7.0,5....</td>\n",
       "      <td>0.0</td>\n",
       "    </tr>\n",
       "    <tr>\n",
       "      <th>34992</th>\n",
       "      <td>34992</td>\n",
       "      <td>0.0</td>\n",
       "      <td>(12,[0,1,2,3,4,5,6,7,8,9,10,11],[2015.0,7.0,5....</td>\n",
       "      <td>0.0</td>\n",
       "    </tr>\n",
       "    <tr>\n",
       "      <th>34993</th>\n",
       "      <td>34993</td>\n",
       "      <td>0.0</td>\n",
       "      <td>(12,[0,1,2,3,4,5,6,7,8,9,10,11],[2015.0,7.0,5....</td>\n",
       "      <td>0.0</td>\n",
       "    </tr>\n",
       "    <tr>\n",
       "      <th>34994</th>\n",
       "      <td>34994</td>\n",
       "      <td>0.0</td>\n",
       "      <td>(12,[0,1,2,3,4,5,6,7,8,9,10,11],[2015.0,7.0,5....</td>\n",
       "      <td>0.0</td>\n",
       "    </tr>\n",
       "    <tr>\n",
       "      <th>34995</th>\n",
       "      <td>34995</td>\n",
       "      <td>0.0</td>\n",
       "      <td>(12,[0,1,2,3,4,5,6,7,8,9,10,11],[2015.0,7.0,5....</td>\n",
       "      <td>0.0</td>\n",
       "    </tr>\n",
       "    <tr>\n",
       "      <th>...</th>\n",
       "      <td>...</td>\n",
       "      <td>...</td>\n",
       "      <td>...</td>\n",
       "      <td>...</td>\n",
       "    </tr>\n",
       "    <tr>\n",
       "      <th>25758</th>\n",
       "      <td>25758</td>\n",
       "      <td>2.0</td>\n",
       "      <td>(12,[0,1,2,3,5,6,7,8,9,10,11],[2015.0,7.0,27.0...</td>\n",
       "      <td>0.0</td>\n",
       "    </tr>\n",
       "    <tr>\n",
       "      <th>25759</th>\n",
       "      <td>25759</td>\n",
       "      <td>2.0</td>\n",
       "      <td>(12,[0,1,2,3,5,6,7,8,9,10,11],[2015.0,7.0,27.0...</td>\n",
       "      <td>0.0</td>\n",
       "    </tr>\n",
       "    <tr>\n",
       "      <th>25760</th>\n",
       "      <td>25760</td>\n",
       "      <td>2.0</td>\n",
       "      <td>(12,[0,1,2,3,5,6,7,8,9,10,11],[2015.0,7.0,28.0...</td>\n",
       "      <td>0.0</td>\n",
       "    </tr>\n",
       "    <tr>\n",
       "      <th>25761</th>\n",
       "      <td>25761</td>\n",
       "      <td>2.0</td>\n",
       "      <td>(12,[0,1,2,3,5,6,7,8,9,10,11],[2015.0,7.0,28.0...</td>\n",
       "      <td>0.0</td>\n",
       "    </tr>\n",
       "    <tr>\n",
       "      <th>25762</th>\n",
       "      <td>25762</td>\n",
       "      <td>2.0</td>\n",
       "      <td>(12,[0,1,2,3,5,6,7,8,9,10,11],[2015.0,7.0,28.0...</td>\n",
       "      <td>0.0</td>\n",
       "    </tr>\n",
       "    <tr>\n",
       "      <th>25763</th>\n",
       "      <td>25763</td>\n",
       "      <td>2.0</td>\n",
       "      <td>(12,[0,1,2,3,5,6,7,8,9,10,11],[2015.0,7.0,28.0...</td>\n",
       "      <td>0.0</td>\n",
       "    </tr>\n",
       "    <tr>\n",
       "      <th>25764</th>\n",
       "      <td>25764</td>\n",
       "      <td>2.0</td>\n",
       "      <td>(12,[0,1,2,3,5,6,7,8,9,10,11],[2015.0,7.0,28.0...</td>\n",
       "      <td>0.0</td>\n",
       "    </tr>\n",
       "    <tr>\n",
       "      <th>25747</th>\n",
       "      <td>25747</td>\n",
       "      <td>2.0</td>\n",
       "      <td>(12,[0,1,2,3,5,6,7,8,9,10,11],[2015.0,7.0,26.0...</td>\n",
       "      <td>0.0</td>\n",
       "    </tr>\n",
       "    <tr>\n",
       "      <th>25766</th>\n",
       "      <td>25766</td>\n",
       "      <td>2.0</td>\n",
       "      <td>(12,[0,1,2,3,5,6,7,8,9,10,11],[2015.0,7.0,28.0...</td>\n",
       "      <td>0.0</td>\n",
       "    </tr>\n",
       "    <tr>\n",
       "      <th>25746</th>\n",
       "      <td>25746</td>\n",
       "      <td>2.0</td>\n",
       "      <td>(12,[0,1,2,3,5,6,7,8,9,10,11],[2015.0,7.0,26.0...</td>\n",
       "      <td>0.0</td>\n",
       "    </tr>\n",
       "    <tr>\n",
       "      <th>25744</th>\n",
       "      <td>25744</td>\n",
       "      <td>2.0</td>\n",
       "      <td>(12,[0,1,2,3,5,6,7,8,9,10,11],[2015.0,7.0,26.0...</td>\n",
       "      <td>0.0</td>\n",
       "    </tr>\n",
       "    <tr>\n",
       "      <th>25727</th>\n",
       "      <td>25727</td>\n",
       "      <td>2.0</td>\n",
       "      <td>(12,[0,1,2,3,5,6,7,8,9,10,11],[2015.0,7.0,22.0...</td>\n",
       "      <td>0.0</td>\n",
       "    </tr>\n",
       "    <tr>\n",
       "      <th>25728</th>\n",
       "      <td>25728</td>\n",
       "      <td>2.0</td>\n",
       "      <td>(12,[0,1,2,3,5,6,7,8,9,10,11],[2015.0,7.0,22.0...</td>\n",
       "      <td>0.0</td>\n",
       "    </tr>\n",
       "    <tr>\n",
       "      <th>25729</th>\n",
       "      <td>25729</td>\n",
       "      <td>2.0</td>\n",
       "      <td>(12,[0,1,2,3,5,6,7,8,9,10,11],[2015.0,7.0,22.0...</td>\n",
       "      <td>0.0</td>\n",
       "    </tr>\n",
       "    <tr>\n",
       "      <th>25730</th>\n",
       "      <td>25730</td>\n",
       "      <td>2.0</td>\n",
       "      <td>(12,[0,1,2,3,5,6,7,8,9,10,11],[2015.0,7.0,23.0...</td>\n",
       "      <td>0.0</td>\n",
       "    </tr>\n",
       "    <tr>\n",
       "      <th>25731</th>\n",
       "      <td>25731</td>\n",
       "      <td>2.0</td>\n",
       "      <td>(12,[0,1,2,3,5,6,7,8,9,10,11],[2015.0,7.0,23.0...</td>\n",
       "      <td>0.0</td>\n",
       "    </tr>\n",
       "    <tr>\n",
       "      <th>25732</th>\n",
       "      <td>25732</td>\n",
       "      <td>2.0</td>\n",
       "      <td>(12,[0,1,2,3,5,6,7,8,9,10,11],[2015.0,7.0,23.0...</td>\n",
       "      <td>0.0</td>\n",
       "    </tr>\n",
       "    <tr>\n",
       "      <th>25733</th>\n",
       "      <td>25733</td>\n",
       "      <td>2.0</td>\n",
       "      <td>(12,[0,1,2,3,5,6,7,8,9,10,11],[2015.0,7.0,23.0...</td>\n",
       "      <td>0.0</td>\n",
       "    </tr>\n",
       "    <tr>\n",
       "      <th>25734</th>\n",
       "      <td>25734</td>\n",
       "      <td>2.0</td>\n",
       "      <td>(12,[0,1,2,3,5,6,7,8,9,10,11],[2015.0,7.0,23.0...</td>\n",
       "      <td>0.0</td>\n",
       "    </tr>\n",
       "    <tr>\n",
       "      <th>25735</th>\n",
       "      <td>25735</td>\n",
       "      <td>2.0</td>\n",
       "      <td>(12,[0,1,2,3,5,6,7,8,9,10,11],[2015.0,7.0,23.0...</td>\n",
       "      <td>0.0</td>\n",
       "    </tr>\n",
       "    <tr>\n",
       "      <th>25736</th>\n",
       "      <td>25736</td>\n",
       "      <td>2.0</td>\n",
       "      <td>(12,[0,1,2,3,5,6,7,8,9,10,11],[2015.0,7.0,23.0...</td>\n",
       "      <td>0.0</td>\n",
       "    </tr>\n",
       "    <tr>\n",
       "      <th>25737</th>\n",
       "      <td>25737</td>\n",
       "      <td>2.0</td>\n",
       "      <td>(12,[0,1,2,3,5,6,7,8,9,10,11],[2015.0,7.0,24.0...</td>\n",
       "      <td>0.0</td>\n",
       "    </tr>\n",
       "    <tr>\n",
       "      <th>25738</th>\n",
       "      <td>25738</td>\n",
       "      <td>2.0</td>\n",
       "      <td>(12,[0,1,2,3,5,6,7,8,9,10,11],[2015.0,7.0,24.0...</td>\n",
       "      <td>0.0</td>\n",
       "    </tr>\n",
       "    <tr>\n",
       "      <th>25739</th>\n",
       "      <td>25739</td>\n",
       "      <td>2.0</td>\n",
       "      <td>(12,[0,1,2,3,5,6,7,8,9,10,11],[2015.0,7.0,24.0...</td>\n",
       "      <td>0.0</td>\n",
       "    </tr>\n",
       "    <tr>\n",
       "      <th>25740</th>\n",
       "      <td>25740</td>\n",
       "      <td>2.0</td>\n",
       "      <td>(12,[0,1,2,3,5,6,7,8,9,10,11],[2015.0,7.0,24.0...</td>\n",
       "      <td>0.0</td>\n",
       "    </tr>\n",
       "    <tr>\n",
       "      <th>25741</th>\n",
       "      <td>25741</td>\n",
       "      <td>2.0</td>\n",
       "      <td>(12,[0,1,2,3,5,6,7,8,9,10,11],[2015.0,7.0,24.0...</td>\n",
       "      <td>0.0</td>\n",
       "    </tr>\n",
       "    <tr>\n",
       "      <th>25742</th>\n",
       "      <td>25742</td>\n",
       "      <td>2.0</td>\n",
       "      <td>(12,[0,1,2,3,5,6,7,8,9,10,11],[2015.0,7.0,25.0...</td>\n",
       "      <td>0.0</td>\n",
       "    </tr>\n",
       "    <tr>\n",
       "      <th>25743</th>\n",
       "      <td>25743</td>\n",
       "      <td>2.0</td>\n",
       "      <td>(12,[0,1,2,3,5,6,7,8,9,10,11],[2015.0,7.0,26.0...</td>\n",
       "      <td>0.0</td>\n",
       "    </tr>\n",
       "    <tr>\n",
       "      <th>25745</th>\n",
       "      <td>25745</td>\n",
       "      <td>2.0</td>\n",
       "      <td>(12,[0,1,2,3,5,6,7,8,9,10,11],[2015.0,7.0,26.0...</td>\n",
       "      <td>0.0</td>\n",
       "    </tr>\n",
       "    <tr>\n",
       "      <th>79842</th>\n",
       "      <td>79842</td>\n",
       "      <td>2.0</td>\n",
       "      <td>(12,[0,1,2,3,5,6,7,8,9,10,11],[2015.0,7.0,31.0...</td>\n",
       "      <td>0.0</td>\n",
       "    </tr>\n",
       "  </tbody>\n",
       "</table>\n",
       "<p>79843 rows × 4 columns</p>\n",
       "</div>"
      ],
      "text/plain": [
       "       Unnamed: 0  label                                           features  \\\n",
       "0               0    0.0  (12,[0,1,2,3,4,5,6,7,8,9,10,11],[2015.0,7.0,1....   \n",
       "35017       35017    0.0  (12,[0,1,2,3,4,5,6,7,8,9,10,11],[2015.0,7.0,5....   \n",
       "35018       35018    0.0  (12,[0,1,2,3,4,5,6,7,8,9,10,11],[2015.0,7.0,5....   \n",
       "35019       35019    0.0  (12,[0,1,2,3,4,5,6,7,8,9,10,11],[2015.0,7.0,5....   \n",
       "35020       35020    0.0  (12,[0,1,2,3,4,5,6,7,8,9,10,11],[2015.0,7.0,5....   \n",
       "35021       35021    0.0  (12,[0,1,2,3,4,5,6,7,8,9,10,11],[2015.0,7.0,5....   \n",
       "35022       35022    0.0  (12,[0,1,2,3,4,5,6,7,8,9,10,11],[2015.0,7.0,5....   \n",
       "35023       35023    0.0  (12,[0,1,2,3,4,5,6,7,8,9,10,11],[2015.0,7.0,5....   \n",
       "35024       35024    0.0  (12,[0,1,2,3,4,5,6,7,8,9,10,11],[2015.0,7.0,5....   \n",
       "35025       35025    0.0  (12,[0,1,2,3,4,5,6,7,8,9,10,11],[2015.0,7.0,5....   \n",
       "35026       35026    0.0  (12,[0,1,2,3,4,5,6,7,8,9,10,11],[2015.0,7.0,5....   \n",
       "35027       35027    0.0  (12,[0,1,2,3,4,5,6,7,8,9,10,11],[2015.0,7.0,5....   \n",
       "35028       35028    0.0  (12,[0,1,2,3,4,5,6,7,8,9,10,11],[2015.0,7.0,5....   \n",
       "35029       35029    0.0  (12,[0,1,2,3,4,5,6,7,8,9,10,11],[2015.0,7.0,5....   \n",
       "35030       35030    0.0  (12,[0,1,2,3,4,5,6,7,8,9,10,11],[2015.0,7.0,5....   \n",
       "35031       35031    0.0  (12,[0,1,2,3,4,5,6,7,8,9,10,11],[2015.0,7.0,5....   \n",
       "35032       35032    0.0  (12,[0,1,2,3,4,5,6,7,8,9,10,11],[2015.0,7.0,5....   \n",
       "35033       35033    0.0  (12,[0,1,2,3,4,5,6,7,8,9,10,11],[2015.0,7.0,5....   \n",
       "35034       35034    0.0  (12,[0,1,2,3,4,5,6,7,8,9,10,11],[2015.0,7.0,5....   \n",
       "35035       35035    0.0  (12,[0,1,2,3,4,5,6,7,8,9,10,11],[2015.0,7.0,5....   \n",
       "35036       35036    0.0  (12,[0,1,2,3,4,5,6,7,8,9,10,11],[2015.0,7.0,5....   \n",
       "35037       35037    0.0  (12,[0,1,2,3,4,5,6,7,8,9,10,11],[2015.0,7.0,5....   \n",
       "35016       35016    0.0  (12,[0,1,2,3,4,5,6,7,8,9,10,11],[2015.0,7.0,5....   \n",
       "35038       35038    0.0  (12,[0,1,2,3,4,5,6,7,8,9,10,11],[2015.0,7.0,5....   \n",
       "35015       35015    0.0  (12,[0,1,2,3,4,5,6,7,8,9,10,11],[2015.0,7.0,5....   \n",
       "35013       35013    0.0  (12,[0,1,2,3,4,5,6,7,8,9,10,11],[2015.0,7.0,5....   \n",
       "34992       34992    0.0  (12,[0,1,2,3,4,5,6,7,8,9,10,11],[2015.0,7.0,5....   \n",
       "34993       34993    0.0  (12,[0,1,2,3,4,5,6,7,8,9,10,11],[2015.0,7.0,5....   \n",
       "34994       34994    0.0  (12,[0,1,2,3,4,5,6,7,8,9,10,11],[2015.0,7.0,5....   \n",
       "34995       34995    0.0  (12,[0,1,2,3,4,5,6,7,8,9,10,11],[2015.0,7.0,5....   \n",
       "...           ...    ...                                                ...   \n",
       "25758       25758    2.0  (12,[0,1,2,3,5,6,7,8,9,10,11],[2015.0,7.0,27.0...   \n",
       "25759       25759    2.0  (12,[0,1,2,3,5,6,7,8,9,10,11],[2015.0,7.0,27.0...   \n",
       "25760       25760    2.0  (12,[0,1,2,3,5,6,7,8,9,10,11],[2015.0,7.0,28.0...   \n",
       "25761       25761    2.0  (12,[0,1,2,3,5,6,7,8,9,10,11],[2015.0,7.0,28.0...   \n",
       "25762       25762    2.0  (12,[0,1,2,3,5,6,7,8,9,10,11],[2015.0,7.0,28.0...   \n",
       "25763       25763    2.0  (12,[0,1,2,3,5,6,7,8,9,10,11],[2015.0,7.0,28.0...   \n",
       "25764       25764    2.0  (12,[0,1,2,3,5,6,7,8,9,10,11],[2015.0,7.0,28.0...   \n",
       "25747       25747    2.0  (12,[0,1,2,3,5,6,7,8,9,10,11],[2015.0,7.0,26.0...   \n",
       "25766       25766    2.0  (12,[0,1,2,3,5,6,7,8,9,10,11],[2015.0,7.0,28.0...   \n",
       "25746       25746    2.0  (12,[0,1,2,3,5,6,7,8,9,10,11],[2015.0,7.0,26.0...   \n",
       "25744       25744    2.0  (12,[0,1,2,3,5,6,7,8,9,10,11],[2015.0,7.0,26.0...   \n",
       "25727       25727    2.0  (12,[0,1,2,3,5,6,7,8,9,10,11],[2015.0,7.0,22.0...   \n",
       "25728       25728    2.0  (12,[0,1,2,3,5,6,7,8,9,10,11],[2015.0,7.0,22.0...   \n",
       "25729       25729    2.0  (12,[0,1,2,3,5,6,7,8,9,10,11],[2015.0,7.0,22.0...   \n",
       "25730       25730    2.0  (12,[0,1,2,3,5,6,7,8,9,10,11],[2015.0,7.0,23.0...   \n",
       "25731       25731    2.0  (12,[0,1,2,3,5,6,7,8,9,10,11],[2015.0,7.0,23.0...   \n",
       "25732       25732    2.0  (12,[0,1,2,3,5,6,7,8,9,10,11],[2015.0,7.0,23.0...   \n",
       "25733       25733    2.0  (12,[0,1,2,3,5,6,7,8,9,10,11],[2015.0,7.0,23.0...   \n",
       "25734       25734    2.0  (12,[0,1,2,3,5,6,7,8,9,10,11],[2015.0,7.0,23.0...   \n",
       "25735       25735    2.0  (12,[0,1,2,3,5,6,7,8,9,10,11],[2015.0,7.0,23.0...   \n",
       "25736       25736    2.0  (12,[0,1,2,3,5,6,7,8,9,10,11],[2015.0,7.0,23.0...   \n",
       "25737       25737    2.0  (12,[0,1,2,3,5,6,7,8,9,10,11],[2015.0,7.0,24.0...   \n",
       "25738       25738    2.0  (12,[0,1,2,3,5,6,7,8,9,10,11],[2015.0,7.0,24.0...   \n",
       "25739       25739    2.0  (12,[0,1,2,3,5,6,7,8,9,10,11],[2015.0,7.0,24.0...   \n",
       "25740       25740    2.0  (12,[0,1,2,3,5,6,7,8,9,10,11],[2015.0,7.0,24.0...   \n",
       "25741       25741    2.0  (12,[0,1,2,3,5,6,7,8,9,10,11],[2015.0,7.0,24.0...   \n",
       "25742       25742    2.0  (12,[0,1,2,3,5,6,7,8,9,10,11],[2015.0,7.0,25.0...   \n",
       "25743       25743    2.0  (12,[0,1,2,3,5,6,7,8,9,10,11],[2015.0,7.0,26.0...   \n",
       "25745       25745    2.0  (12,[0,1,2,3,5,6,7,8,9,10,11],[2015.0,7.0,26.0...   \n",
       "79842       79842    2.0  (12,[0,1,2,3,5,6,7,8,9,10,11],[2015.0,7.0,31.0...   \n",
       "\n",
       "       prediction  \n",
       "0             0.0  \n",
       "35017         0.0  \n",
       "35018         0.0  \n",
       "35019         0.0  \n",
       "35020         0.0  \n",
       "35021         0.0  \n",
       "35022         0.0  \n",
       "35023         0.0  \n",
       "35024         0.0  \n",
       "35025         0.0  \n",
       "35026         0.0  \n",
       "35027         0.0  \n",
       "35028         0.0  \n",
       "35029         0.0  \n",
       "35030         0.0  \n",
       "35031         0.0  \n",
       "35032         0.0  \n",
       "35033         0.0  \n",
       "35034         0.0  \n",
       "35035         0.0  \n",
       "35036         0.0  \n",
       "35037         0.0  \n",
       "35016         0.0  \n",
       "35038         0.0  \n",
       "35015         0.0  \n",
       "35013         0.0  \n",
       "34992         0.0  \n",
       "34993         0.0  \n",
       "34994         0.0  \n",
       "34995         0.0  \n",
       "...           ...  \n",
       "25758         0.0  \n",
       "25759         0.0  \n",
       "25760         0.0  \n",
       "25761         0.0  \n",
       "25762         0.0  \n",
       "25763         0.0  \n",
       "25764         0.0  \n",
       "25747         0.0  \n",
       "25766         0.0  \n",
       "25746         0.0  \n",
       "25744         0.0  \n",
       "25727         0.0  \n",
       "25728         0.0  \n",
       "25729         0.0  \n",
       "25730         0.0  \n",
       "25731         0.0  \n",
       "25732         0.0  \n",
       "25733         0.0  \n",
       "25734         0.0  \n",
       "25735         0.0  \n",
       "25736         0.0  \n",
       "25737         0.0  \n",
       "25738         0.0  \n",
       "25739         0.0  \n",
       "25740         0.0  \n",
       "25741         0.0  \n",
       "25742         0.0  \n",
       "25743         0.0  \n",
       "25745         0.0  \n",
       "79842         0.0  \n",
       "\n",
       "[79843 rows x 4 columns]"
      ]
     },
     "execution_count": 82,
     "metadata": {},
     "output_type": "execute_result"
    }
   ],
   "source": [
    "sparkResults = pandas.read_csv(\"resultsCSV\")\n",
    "sparkResults = sparkResults.sort_values(by=['label'])\n",
    "sparkResults"
   ]
  },
  {
   "cell_type": "code",
   "execution_count": 83,
   "metadata": {},
   "outputs": [],
   "source": [
    "actualLabels = np.array(sparkResults['label'])\n",
    "predictedLabels = np.array(sparkResults['prediction'])"
   ]
  },
  {
   "cell_type": "markdown",
   "metadata": {},
   "source": [
    "#### Spark Confusion Matrices and Plot"
   ]
  },
  {
   "cell_type": "code",
   "execution_count": 84,
   "metadata": {},
   "outputs": [
    {
     "name": "stdout",
     "output_type": "stream",
     "text": [
      "       0    1    2\n",
      "    ------------------\n",
      " 0 |100.0  0    0.0\n",
      " 1 | 99.9  0    0.1\n",
      " 2 | 99.9  0    0.1\n"
     ]
    },
    {
     "data": {
      "text/plain": [
       "array([[9.99588037e-01, 0.00000000e+00, 4.11963418e-04],\n",
       "       [9.99387797e-01, 0.00000000e+00, 6.12203251e-04],\n",
       "       [9.99096059e-01, 0.00000000e+00, 9.03941184e-04]])"
      ]
     },
     "execution_count": 84,
     "metadata": {},
     "output_type": "execute_result"
    }
   ],
   "source": [
    "ml.confusionMatrix(actualLabels, predictedLabels, [0, 1, 2])"
   ]
  },
  {
   "cell_type": "code",
   "execution_count": 85,
   "metadata": {},
   "outputs": [
    {
     "data": {
      "image/png": "[encoded data removed]",
      "text/plain": [
       "<matplotlib.figure.Figure at 0x11797b2b0>"
      ]
     },
     "metadata": {},
     "output_type": "display_data"
    }
   ],
   "source": [
    "plt.figure(figsize=(8,8))\n",
    "plt.plot(actualLabels,lw=3)\n",
    "plt.plot(predictedLabels,'o',alpha=0.3)\n",
    "plt.title('Spark Neural Network Test Predictions')\n",
    "plt.legend(('Actual','Predicted'), loc='best');"
   ]
  },
  {
   "cell_type": "markdown",
   "metadata": {},
   "source": [
    "## Conclusions and Future Work"
   ]
  },
  {
   "cell_type": "markdown",
   "metadata": {},
   "source": [
    "### CS445 Neural Network Results Discussion"
   ]
  },
  {
   "cell_type": "markdown",
   "metadata": {},
   "source": [
    "The neural network we developed in class had relatively similar performance between all three tested activation functions. As shown above, networks using tanh, leaky ReLU, or Softplus all achieved roughly 65-66% accuracy on the test data. Fluctuations in accuracy between the different activations functions was minor, and could be attributed to the fact that only one random partitioning of the data was performed for each one.\n",
    "\n",
    "All three networks favored predicting 0 ('early') as a particular flight's classification, but did manage to classify some non-early flights correctly.\n",
    "\n",
    "Of the three activation functions, tanh continues to be a solid choice, yielding around .5-1% higher accuracy than the other two functions depending on the data split. Interestingly, softplus didn't perform that much worse on this dataset despite our textbook's description of it as an inferior activation function. Overall though, changing the activation function didn't make a huge difference in the results for this data set.\n",
    "\n",
    "These neural networks were able to correctly predict when a flight was going to be late 30% of the time but unfortunately tended to mis-classify late flights as early. If you're a passenger on a flight that's going to be delayed, the last thing you want is to be told the flight's going to arrive early. In spite of that, these networks far outperformed the Spark and PyTorch networks in predicting late flights."
   ]
  },
  {
   "cell_type": "markdown",
   "metadata": {},
   "source": [
    "### PyTorch Neural Network Results Discussion"
   ]
  },
  {
   "cell_type": "markdown",
   "metadata": {},
   "source": [
    "#### Usability"
   ]
  },
  {
   "cell_type": "markdown",
   "metadata": {},
   "source": [
    "PyTorch was interesting to work with because a neural network ends up being constructed of fairly modular components. It allows for more concrete fine-tuning compared to the CS445 neural networks, because method calls can be easily replaced to alter the characteristics of the network. The downside to this is the learning curve ends up being higher and it's easier to create a network with suboptimal parameters. For example, some tutorials used a sigmoid function for the final forward pass, while others just returned the un-transformed value. It took some digging through the PyTorch documentation to figure out that one was using a negative log likelihood function afterward, while the other was using a Cross Entropy Loss function that performs the sigmoid and negative log likelihood functions in one call. The end result was the same, but the wide range of available functions increase the likelihood of making a mistake.\n",
    "\n",
    "Comparatively, all the user needs to do with the CS445 network is create it, tell it the inputs, hidden layers, and outputs, and the network takes care of the rest. Of course, there are additional parameters to tweak if required, but the default settings apply very well in general. PyTorch also requires the user to write much more code than our neural networks; creating, using, and evaluating a neural network involved writing at least one loop at each step.\n",
    "\n",
    "The CS445 partitioning function was used to partition the data for the PyTorch network because the PyTorch network accepted numpy arrays for the train and test set. In addition to being simple to implement, that function was also used because it appears a function for stratified partitioning is not available in PyTorch<sup>[4]</sup>."
   ]
  },
  {
   "cell_type": "markdown",
   "metadata": {},
   "source": [
    "#### Results"
   ]
  },
  {
   "cell_type": "markdown",
   "metadata": {},
   "source": [
    "PyTorch guessed 0/'early' for all flights in the dataset. The network used tanh as the activation function and sigmoid/negative log likelihood during the backward pass like the CS445 networks, so it's unclear why it was unable to predict anything other than a 0. Every effort was made to use the same parameters as the ones used in the CS445 networks to enable a direct comparison. The most likely explanation is an accidental parameter change or suboptimal configuration in the PyTorch network because of my inexperience with the package. Another possible explanation is that PyTorch's neural network implementation may be more sensitive to the problems with the data that are discussed below than the CS445 networks."
   ]
  },
  {
   "cell_type": "markdown",
   "metadata": {},
   "source": [
    "### Spark Neural Network Results Discussion"
   ]
  },
  {
   "cell_type": "markdown",
   "metadata": {},
   "source": [
    "#### Usability"
   ]
  },
  {
   "cell_type": "markdown",
   "metadata": {},
   "source": [
    "Spark was very simple to install, and most exceptions encountered during use were easily resolved by adding import statements. Once everything was installed, the main challenge was converting the data from a .csv file to a libsvm file, which is required by some of Spark's machine learning classes. Unfortunately, there was no official documentation or tutorial to do so. Because of this, reformatting the data formed the bulk of the work and troubleshooting during this phase, so the initial complexity was much higher compared to PyTorch.\n",
    "\n",
    "Once the initial challenge of creating a libsvm file was overcome, using Spark's Multilayer Perceptron Classifier (MLPC) class was incredibly easy. The amount of work required was similar to the CS445 networks: instantiate a network, give it the inputs, hidden layers, and outputs, and the network does the rest. Spark provided a partitioning function as equally easy to use as the one developed in class, and it correctly maintains the proportions of the different classifications in the train and test set. Additionally, the MLPC class exposes a number of parameters to allow tuning, but provides usable default values for most of them. This allows new users to pick up and use the MLPC class without much effort, but also provides the option of fine-tuning once the user has more experience.\n",
    "\n",
    "Another drawback to using Spark's MLPC class is that the trained model is returned as an MLPC model object. The user's investigation of the training set accuracy is therefore constrained to the methods provided by that object, which generally focus on providing information about the network parameters and not the training results<sup>[5]</sup>. Test results, in contrast, are returned as a dataframe and are much easier to work with and evaluate. This drawback isn't critical because the test results are what really matters, but it still would have been nice to see some intermediate data to have an idea of how well the model's learning."
   ]
  },
  {
   "cell_type": "markdown",
   "metadata": {},
   "source": [
    "#### Results"
   ]
  },
  {
   "cell_type": "markdown",
   "metadata": {},
   "source": [
    "Similarly to PyTorch, the MLPC tended to classify flights as 0/'early' no matter the input values. The network used a sigmoid function in the intermediate layers and a softmax in the output layer<sup>[3]</sup>. Sigmoid's output range is [0, 1], compared to tanh's [-1, 1] so that may have changed the output slightly compared to PyTorch's use of tanh. This small difference could be why the network occasionally predicted 2/'late' classifications whereas the PyTorch networks did not. Unfortunately, it's difficult to say what the reason behind the occasional 2/'late' classification is without access to the code, but it could have also been a problem with the data as mentioned below.\n",
    "\n",
    "Overall, Spark performed slightly better than PyTorch but worse than the CS445 networks. Since Spark's claim to fame is its ability to process massive datasets quickly, it's worth investigating further since it may be able to analyze data sets that have not been tested much due to their sheer size."
   ]
  },
  {
   "cell_type": "markdown",
   "metadata": {},
   "source": [
    "### General Conclusions"
   ]
  },
  {
   "cell_type": "markdown",
   "metadata": {},
   "source": [
    "All neural networks used in this study had difficulty classifying flights as anything other than 0 ('early') and all achieved roughly 60% test accuracy. \n",
    "\n",
    "There could be several explanations for this behavior, the simplest being that the data was skewed to 'early' classifications. Roughly 60% of the data's actual classification was 'early', so the networks may have quickly learned to always predict 'early'/0.\n",
    "\n",
    "Another explanation could be that the features included in the dataset have little to no bearing on the outcome of the flight. This could be reasonable considering that, according to Business Insider, 50% of delays are caused by \"airline issues\" (aircraft maintenance, crew scheduling, etc.), 30% are caused by weather, and 15% are caused by general US Aviation issues<sup>[4]</sup>. Because 45% are outside of the airline's control and 50% are controlled by the airline but may not necessarily cause consistent delays, the features examined may not have a direct correlation to the probability of a flight being delayed.\n",
    "\n",
    "The final explanation could be that there was an error setting up one or more of the networks. This is relatively unlikely for the neural network we created in class, as the data and process was similar to what we've done before. It's difficult to say whether this was part of the problem for the PyTorch and Spark experiments. Due to my relative inexperience with both packages some configuration parameters may not have been optimized, but the networks used in the experiments were created following the official tutorials. These should (hopefully) provide good instruction, decreasing the chance that the inaccuracy was caused by improper setup.\n",
    "\n",
    "Based on the networks' behavior and class discussions, the second reason is likely the reason for the overall inaccuracy.\n",
    "\n",
    "For the data analyzed, the CS445 neural networks performed best with an accuracy level around 65% compared to PyTorch and Spark's accuracy of around 60%.\n",
    "\n",
    "Changing the activation function for the CS445 networks had relatively little impact on the final results for this data set. Tanh performed slightly better and performed well on most data sets examined during this course, so it seems like a good starting point for most networks and data sets."
   ]
  },
  {
   "cell_type": "markdown",
   "metadata": {},
   "source": [
    "### Future Work"
   ]
  },
  {
   "cell_type": "markdown",
   "metadata": {},
   "source": [
    "This data set could be analyzed further to investigate the cause of some of the problems mentioned above. The first and simplest next step would be to partition the data in a way that all three classifications are equally represented in the data. It would then be easier to evaluate how well the networks are doing and whether it's possible to accurately predict whether a flight's going to be late based on the inputs.\n",
    "\n",
    "If using unskewed data vastly improves results, the next step could be evaluating the entire dataset instead of one month.\n",
    "\n",
    "Default parameters were generally favored during this study except when the defaults differed between packages (Spark's default step size/learning rate is 0.03, for example). This study could be repeated with different neural network parameters to gauge how much each parameter influences results.\n",
    "\n",
    "Finally, additional machine learning packages, such as Microsoft's CNTK, could also be used to evaluate this data set."
   ]
  },
  {
   "cell_type": "markdown",
   "metadata": {},
   "source": [
    "## References"
   ]
  },
  {
   "cell_type": "markdown",
   "metadata": {},
   "source": [
    "1. http://cs231n.github.io/neural-networks-1/\n",
    "2. Deep Learning, Goodfellow et-al. 2016 (http://www.deeplearningbook.org)\n",
    "3. https://spark.apache.org/docs/latest/ml-classification-regression.html#multilayer-perceptron-classifier\n",
    "4. https://github.com/pytorch/pytorch/issues/5231\n",
    "5. http://www.businessinsider.com/why-your-flight-delayed-2016-12\n",
    "6. https://spark.apache.org/docs/latest/api/python/pyspark.ml.html#pyspark.ml.classification.MultilayerPerceptronClassifier"
   ]
  }
 ],
 "metadata": {
  "kernelspec": {
   "display_name": "Python 3",
   "language": "python",
   "name": "python3"
  },
  "language_info": {
   "codemirror_mode": {
    "name": "ipython",
    "version": 3
   },
   "file_extension": ".py",
   "mimetype": "text/x-python",
   "name": "python",
   "nbconvert_exporter": "python",
   "pygments_lexer": "ipython3",
   "version": "3.6.4"
  }
 },
 "nbformat": 4,
 "nbformat_minor": 2
}
